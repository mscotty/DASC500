{
  "nbformat": 4,
  "nbformat_minor": 0,
  "metadata": {
    "colab": {
      "provenance": []
    },
    "kernelspec": {
      "name": "python3",
      "display_name": "Python 3"
    },
    "language_info": {
      "name": "python"
    },
    "accelerator": "TPU"
  },
  "cells": [
    {
      "cell_type": "markdown",
      "source": [
        "DASC522 Case Study by a prior student\n"
      ],
      "metadata": {
        "id": "9mSlLoJcPUO0"
      }
    },
    {
      "cell_type": "markdown",
      "source": [
        "**Preamble**"
      ],
      "metadata": {
        "id": "vv0XksnPh3yJ"
      }
    },
    {
      "cell_type": "code",
      "execution_count": null,
      "metadata": {
        "id": "glZ8OG4Xs6KC"
      },
      "outputs": [],
      "source": [
        "import matplotlib.pyplot as plt\n",
        "import numpy as np\n",
        "import pandas as pd\n",
        "import seaborn as sns\n",
        "\n",
        "import statsmodels.api as sm\n",
        "\n",
        "from sklearn.model_selection import train_test_split\n",
        "from sklearn import preprocessing\n",
        "from sklearn.metrics import mean_squared_error\n",
        "from sklearn.metrics import mean_absolute_error"
      ]
    },
    {
      "cell_type": "markdown",
      "source": [
        "# **Data Understanding**"
      ],
      "metadata": {
        "id": "aDherHBMpVkj"
      }
    },
    {
      "cell_type": "markdown",
      "source": [
        "Read the Data"
      ],
      "metadata": {
        "id": "nkb3zrg9pZnt"
      }
    },
    {
      "cell_type": "code",
      "source": [
        "# Read the data\n",
        "sat_data = pd.read_csv('satdb.csv')"
      ],
      "metadata": {
        "id": "UshroEtmpRym"
      },
      "execution_count": null,
      "outputs": []
    },
    {
      "cell_type": "code",
      "source": [
        "# Data Understanding Table\n",
        "sat_data.describe()"
      ],
      "metadata": {
        "colab": {
          "base_uri": "https://localhost:8080/",
          "height": 300
        },
        "id": "rDWfz04ipcdl",
        "outputId": "fa355885-385f-4194-c961-7b3dfa500b3a"
      },
      "execution_count": null,
      "outputs": [
        {
          "output_type": "execute_result",
          "data": {
            "text/plain": [
              "              life  geo_longitude       perigee         apogee  eccentricity  \\\n",
              "count  3095.000000    3095.000000   3095.000000    3095.000000   3095.000000   \n",
              "mean      6.262763       2.527157   6987.553796    7831.973183      0.008591   \n",
              "std       4.259524      36.527876  13012.944799   16596.678083      0.073299   \n",
              "min       0.250000    -179.800000    170.000000     280.000000      0.000000   \n",
              "25%       4.000000       0.000000    538.000000     551.000000      0.000225   \n",
              "50%       4.000000       0.000000    548.000000     561.000000      0.000939   \n",
              "75%       7.000000       0.000000   1215.000000    1220.000000      0.001087   \n",
              "max      30.000000     180.000000  37782.000000  330000.000000      0.957119   \n",
              "\n",
              "       inclination        period   launch_mass  \n",
              "count  3095.000000   3091.000000   3070.000000  \n",
              "mean     59.298672    351.153931   1012.319772  \n",
              "std      31.199721    576.734388   1805.609058  \n",
              "min       0.000000     91.340000      1.000000  \n",
              "25%      53.000000     95.600000    148.000000  \n",
              "50%      53.000000     95.600000    260.000000  \n",
              "75%      87.400000    100.700000    843.500000  \n",
              "max     143.400000  11520.000000  22500.000000  "
            ],
            "text/html": [
              "\n",
              "  <div id=\"df-0a48567c-bac5-4a86-a2eb-8c0c4e8dd282\">\n",
              "    <div class=\"colab-df-container\">\n",
              "      <div>\n",
              "<style scoped>\n",
              "    .dataframe tbody tr th:only-of-type {\n",
              "        vertical-align: middle;\n",
              "    }\n",
              "\n",
              "    .dataframe tbody tr th {\n",
              "        vertical-align: top;\n",
              "    }\n",
              "\n",
              "    .dataframe thead th {\n",
              "        text-align: right;\n",
              "    }\n",
              "</style>\n",
              "<table border=\"1\" class=\"dataframe\">\n",
              "  <thead>\n",
              "    <tr style=\"text-align: right;\">\n",
              "      <th></th>\n",
              "      <th>life</th>\n",
              "      <th>geo_longitude</th>\n",
              "      <th>perigee</th>\n",
              "      <th>apogee</th>\n",
              "      <th>eccentricity</th>\n",
              "      <th>inclination</th>\n",
              "      <th>period</th>\n",
              "      <th>launch_mass</th>\n",
              "    </tr>\n",
              "  </thead>\n",
              "  <tbody>\n",
              "    <tr>\n",
              "      <th>count</th>\n",
              "      <td>3095.000000</td>\n",
              "      <td>3095.000000</td>\n",
              "      <td>3095.000000</td>\n",
              "      <td>3095.000000</td>\n",
              "      <td>3095.000000</td>\n",
              "      <td>3095.000000</td>\n",
              "      <td>3091.000000</td>\n",
              "      <td>3070.000000</td>\n",
              "    </tr>\n",
              "    <tr>\n",
              "      <th>mean</th>\n",
              "      <td>6.262763</td>\n",
              "      <td>2.527157</td>\n",
              "      <td>6987.553796</td>\n",
              "      <td>7831.973183</td>\n",
              "      <td>0.008591</td>\n",
              "      <td>59.298672</td>\n",
              "      <td>351.153931</td>\n",
              "      <td>1012.319772</td>\n",
              "    </tr>\n",
              "    <tr>\n",
              "      <th>std</th>\n",
              "      <td>4.259524</td>\n",
              "      <td>36.527876</td>\n",
              "      <td>13012.944799</td>\n",
              "      <td>16596.678083</td>\n",
              "      <td>0.073299</td>\n",
              "      <td>31.199721</td>\n",
              "      <td>576.734388</td>\n",
              "      <td>1805.609058</td>\n",
              "    </tr>\n",
              "    <tr>\n",
              "      <th>min</th>\n",
              "      <td>0.250000</td>\n",
              "      <td>-179.800000</td>\n",
              "      <td>170.000000</td>\n",
              "      <td>280.000000</td>\n",
              "      <td>0.000000</td>\n",
              "      <td>0.000000</td>\n",
              "      <td>91.340000</td>\n",
              "      <td>1.000000</td>\n",
              "    </tr>\n",
              "    <tr>\n",
              "      <th>25%</th>\n",
              "      <td>4.000000</td>\n",
              "      <td>0.000000</td>\n",
              "      <td>538.000000</td>\n",
              "      <td>551.000000</td>\n",
              "      <td>0.000225</td>\n",
              "      <td>53.000000</td>\n",
              "      <td>95.600000</td>\n",
              "      <td>148.000000</td>\n",
              "    </tr>\n",
              "    <tr>\n",
              "      <th>50%</th>\n",
              "      <td>4.000000</td>\n",
              "      <td>0.000000</td>\n",
              "      <td>548.000000</td>\n",
              "      <td>561.000000</td>\n",
              "      <td>0.000939</td>\n",
              "      <td>53.000000</td>\n",
              "      <td>95.600000</td>\n",
              "      <td>260.000000</td>\n",
              "    </tr>\n",
              "    <tr>\n",
              "      <th>75%</th>\n",
              "      <td>7.000000</td>\n",
              "      <td>0.000000</td>\n",
              "      <td>1215.000000</td>\n",
              "      <td>1220.000000</td>\n",
              "      <td>0.001087</td>\n",
              "      <td>87.400000</td>\n",
              "      <td>100.700000</td>\n",
              "      <td>843.500000</td>\n",
              "    </tr>\n",
              "    <tr>\n",
              "      <th>max</th>\n",
              "      <td>30.000000</td>\n",
              "      <td>180.000000</td>\n",
              "      <td>37782.000000</td>\n",
              "      <td>330000.000000</td>\n",
              "      <td>0.957119</td>\n",
              "      <td>143.400000</td>\n",
              "      <td>11520.000000</td>\n",
              "      <td>22500.000000</td>\n",
              "    </tr>\n",
              "  </tbody>\n",
              "</table>\n",
              "</div>\n",
              "      <button class=\"colab-df-convert\" onclick=\"convertToInteractive('df-0a48567c-bac5-4a86-a2eb-8c0c4e8dd282')\"\n",
              "              title=\"Convert this dataframe to an interactive table.\"\n",
              "              style=\"display:none;\">\n",
              "        \n",
              "  <svg xmlns=\"http://www.w3.org/2000/svg\" height=\"24px\"viewBox=\"0 0 24 24\"\n",
              "       width=\"24px\">\n",
              "    <path d=\"M0 0h24v24H0V0z\" fill=\"none\"/>\n",
              "    <path d=\"M18.56 5.44l.94 2.06.94-2.06 2.06-.94-2.06-.94-.94-2.06-.94 2.06-2.06.94zm-11 1L8.5 8.5l.94-2.06 2.06-.94-2.06-.94L8.5 2.5l-.94 2.06-2.06.94zm10 10l.94 2.06.94-2.06 2.06-.94-2.06-.94-.94-2.06-.94 2.06-2.06.94z\"/><path d=\"M17.41 7.96l-1.37-1.37c-.4-.4-.92-.59-1.43-.59-.52 0-1.04.2-1.43.59L10.3 9.45l-7.72 7.72c-.78.78-.78 2.05 0 2.83L4 21.41c.39.39.9.59 1.41.59.51 0 1.02-.2 1.41-.59l7.78-7.78 2.81-2.81c.8-.78.8-2.07 0-2.86zM5.41 20L4 18.59l7.72-7.72 1.47 1.35L5.41 20z\"/>\n",
              "  </svg>\n",
              "      </button>\n",
              "      \n",
              "  <style>\n",
              "    .colab-df-container {\n",
              "      display:flex;\n",
              "      flex-wrap:wrap;\n",
              "      gap: 12px;\n",
              "    }\n",
              "\n",
              "    .colab-df-convert {\n",
              "      background-color: #E8F0FE;\n",
              "      border: none;\n",
              "      border-radius: 50%;\n",
              "      cursor: pointer;\n",
              "      display: none;\n",
              "      fill: #1967D2;\n",
              "      height: 32px;\n",
              "      padding: 0 0 0 0;\n",
              "      width: 32px;\n",
              "    }\n",
              "\n",
              "    .colab-df-convert:hover {\n",
              "      background-color: #E2EBFA;\n",
              "      box-shadow: 0px 1px 2px rgba(60, 64, 67, 0.3), 0px 1px 3px 1px rgba(60, 64, 67, 0.15);\n",
              "      fill: #174EA6;\n",
              "    }\n",
              "\n",
              "    [theme=dark] .colab-df-convert {\n",
              "      background-color: #3B4455;\n",
              "      fill: #D2E3FC;\n",
              "    }\n",
              "\n",
              "    [theme=dark] .colab-df-convert:hover {\n",
              "      background-color: #434B5C;\n",
              "      box-shadow: 0px 1px 3px 1px rgba(0, 0, 0, 0.15);\n",
              "      filter: drop-shadow(0px 1px 2px rgba(0, 0, 0, 0.3));\n",
              "      fill: #FFFFFF;\n",
              "    }\n",
              "  </style>\n",
              "\n",
              "      <script>\n",
              "        const buttonEl =\n",
              "          document.querySelector('#df-0a48567c-bac5-4a86-a2eb-8c0c4e8dd282 button.colab-df-convert');\n",
              "        buttonEl.style.display =\n",
              "          google.colab.kernel.accessAllowed ? 'block' : 'none';\n",
              "\n",
              "        async function convertToInteractive(key) {\n",
              "          const element = document.querySelector('#df-0a48567c-bac5-4a86-a2eb-8c0c4e8dd282');\n",
              "          const dataTable =\n",
              "            await google.colab.kernel.invokeFunction('convertToInteractive',\n",
              "                                                     [key], {});\n",
              "          if (!dataTable) return;\n",
              "\n",
              "          const docLinkHtml = 'Like what you see? Visit the ' +\n",
              "            '<a target=\"_blank\" href=https://colab.research.google.com/notebooks/data_table.ipynb>data table notebook</a>'\n",
              "            + ' to learn more about interactive tables.';\n",
              "          element.innerHTML = '';\n",
              "          dataTable['output_type'] = 'display_data';\n",
              "          await google.colab.output.renderOutput(dataTable, element);\n",
              "          const docLink = document.createElement('div');\n",
              "          docLink.innerHTML = docLinkHtml;\n",
              "          element.appendChild(docLink);\n",
              "        }\n",
              "      </script>\n",
              "    </div>\n",
              "  </div>\n",
              "  "
            ]
          },
          "metadata": {},
          "execution_count": 3
        }
      ]
    },
    {
      "cell_type": "code",
      "source": [
        "# Data Columns\n",
        "sat_data.columns\n"
      ],
      "metadata": {
        "colab": {
          "base_uri": "https://localhost:8080/"
        },
        "id": "ZCh6dPHzppTp",
        "outputId": "96415b94-dcdd-4e5d-b772-c064ebb25b51"
      },
      "execution_count": null,
      "outputs": [
        {
          "output_type": "execute_result",
          "data": {
            "text/plain": [
              "Index(['life', 'orbit_class', 'geo_longitude', 'perigee', 'apogee',\n",
              "       'eccentricity', 'inclination', 'period', 'launch_mass', 'gov', 'com',\n",
              "       'mil'],\n",
              "      dtype='object')"
            ]
          },
          "metadata": {},
          "execution_count": 4
        }
      ]
    },
    {
      "cell_type": "markdown",
      "source": [
        "Visualizations"
      ],
      "metadata": {
        "id": "A36bQC1GpxDo"
      }
    },
    {
      "cell_type": "code",
      "source": [
        "# Visualization 0 - Build histograms of one input variable\n",
        "\n",
        "column_to_plot = sat_data['life']\n",
        "\n",
        "# method 1: using facade interface\n",
        "plt.plot(column_to_plot)\n",
        "plt.show()\n",
        "\n",
        "# method 2: using object-oriented interface\n",
        "fig, ax = plt.subplots(1)\n",
        "ax.plot(column_to_plot)\n",
        "\n"
      ],
      "metadata": {
        "colab": {
          "base_uri": "https://localhost:8080/",
          "height": 530
        },
        "id": "bOkbSdmAva-t",
        "outputId": "c616508b-1788-4259-d992-579d3c1eea9b"
      },
      "execution_count": null,
      "outputs": [
        {
          "output_type": "display_data",
          "data": {
            "text/plain": [
              "<Figure size 432x288 with 1 Axes>"
            ],
            "image/png": "[encoded data removed]"
          },
          "metadata": {
            "needs_background": "light"
          }
        },
        {
          "output_type": "execute_result",
          "data": {
            "text/plain": [
              "[<matplotlib.lines.Line2D at 0x7f13f8849890>]"
            ]
          },
          "metadata": {},
          "execution_count": 5
        },
        {
          "output_type": "display_data",
          "data": {
            "text/plain": [
              "<Figure size 432x288 with 1 Axes>"
            ],
            "image/png": "[encoded data removed]"
          },
          "metadata": {
            "needs_background": "light"
          }
        }
      ]
    },
    {
      "cell_type": "code",
      "source": [
        "# Visualization 1 - Build histograms of input variables\n",
        "\n",
        "# just for reference: sat_columns = ['life', 'geo_longitude', 'perigee', 'apogee', 'eccentricity',\n",
        "      #  'inclination', 'period', 'launch_mass']\n",
        "\n",
        "sns.set(style=\"darkgrid\")\n",
        "\n",
        "fig, axs = plt.subplots(4, 2, figsize=(12, 18))\n",
        "\n",
        "sns.histplot(data=sat_data, x='life', bins=30, kde=True, color=\"blue\",\n",
        "             ax=axs[0,0])\n",
        "sns.histplot(data=sat_data, x=\"geo_longitude\", bins=30, kde=True, color=\"red\",\n",
        "             ax=axs[0, 1])\n",
        "sns.histplot(data=sat_data, x=\"perigee\", bins=30, kde=True, color=\"gold\",\n",
        "             ax=axs[1, 0])\n",
        "sns.histplot(data=sat_data, x=\"apogee\", bins=30, kde=True, color=\"green\",\n",
        "             ax=axs[1, 1])\n",
        "sns.histplot(data=sat_data, x=\"eccentricity\", bins=30, kde=True, color=\"olive\",\n",
        "             ax=axs[2, 0])\n",
        "sns.histplot(data=sat_data, x=\"inclination\", bins=30, kde=True, color=\"teal\",\n",
        "             ax=axs[2, 1])\n",
        "sns.histplot(data=sat_data, x=\"period\", bins=30, kde=True, color=\"black\",\n",
        "             ax=axs[3, 0])\n",
        "sns.histplot(data=sat_data, x=\"launch_mass\", bins=30, kde=True, color=\"purple\",\n",
        "             ax=axs[3, 1])\n",
        "\n",
        "#fig.suptitle(\"Variables Histograms\", fontsize=15)\n",
        "plt.show()\n",
        "\n"
      ],
      "metadata": {
        "colab": {
          "base_uri": "https://localhost:8080/",
          "height": 1000
        },
        "id": "N-OiFedRpt-b",
        "outputId": "46a3e2eb-ad8d-4599-8dbf-a64879af6ea5"
      },
      "execution_count": null,
      "outputs": [
        {
          "output_type": "display_data",
          "data": {
            "text/plain": [
              "<Figure size 864x1296 with 8 Axes>"
            ],
            "image/png": "[encoded data removed]"
          },
          "metadata": {}
        }
      ]
    },
    {
      "cell_type": "markdown",
      "source": [
        "###Just for fun - parent/child object hierarchy in matplotlib Figure objects"
      ],
      "metadata": {
        "id": "BXNvCNCiJ8v3"
      }
    },
    {
      "cell_type": "code",
      "source": [
        "print(\"List of the children of this figure object \\n\",\n",
        "      *list(fig.get_children()), sep =\"\\n\")"
      ],
      "metadata": {
        "colab": {
          "base_uri": "https://localhost:8080/"
        },
        "id": "s7WA-kbdsgkk",
        "outputId": "1e1030b9-2cff-42b6-ce24-1599b39f36ad"
      },
      "execution_count": null,
      "outputs": [
        {
          "output_type": "stream",
          "name": "stdout",
          "text": [
            "List of the children of this figure object \n",
            "\n",
            "Rectangle(xy=(0, 0), width=1, height=1, angle=0)\n",
            "AxesSubplot(0.125,0.71587;0.352273x0.16413)\n",
            "AxesSubplot(0.547727,0.71587;0.352273x0.16413)\n",
            "AxesSubplot(0.125,0.518913;0.352273x0.16413)\n",
            "AxesSubplot(0.547727,0.518913;0.352273x0.16413)\n",
            "AxesSubplot(0.125,0.321957;0.352273x0.16413)\n",
            "AxesSubplot(0.547727,0.321957;0.352273x0.16413)\n",
            "AxesSubplot(0.125,0.125;0.352273x0.16413)\n",
            "AxesSubplot(0.547727,0.125;0.352273x0.16413)\n"
          ]
        }
      ]
    },
    {
      "cell_type": "code",
      "source": [
        "print(\"List of the children of the Life histogram axis object \\n\",\n",
        "      *list(axs[0,0].get_children()), sep =\"\\n\")"
      ],
      "metadata": {
        "colab": {
          "base_uri": "https://localhost:8080/"
        },
        "id": "0PZfSUkUw63q",
        "outputId": "92e8b007-07f1-4122-e116-ab2832c5a78b"
      },
      "execution_count": null,
      "outputs": [
        {
          "output_type": "stream",
          "name": "stdout",
          "text": [
            "List of the children of the Life histogram axis object \n",
            "\n",
            "Rectangle(xy=(0.25, 0), width=0.991667, height=28, angle=0)\n",
            "Rectangle(xy=(1.24167, 0), width=0.991667, height=159, angle=0)\n",
            "Rectangle(xy=(2.23333, 0), width=0.991667, height=240, angle=0)\n",
            "Rectangle(xy=(3.225, 0), width=0.991667, height=1273, angle=0)\n",
            "Rectangle(xy=(4.21667, 0), width=0.991667, height=581, angle=0)\n",
            "Rectangle(xy=(5.20833, 0), width=0.991667, height=4, angle=0)\n",
            "Rectangle(xy=(6.2, 0), width=0.991667, height=75, angle=0)\n",
            "Rectangle(xy=(7.19167, 0), width=0.991667, height=84, angle=0)\n",
            "Rectangle(xy=(8.18333, 0), width=0.991667, height=5, angle=0)\n",
            "Rectangle(xy=(9.175, 0), width=0.991667, height=81, angle=0)\n",
            "Rectangle(xy=(10.1667, 0), width=0.991667, height=6, angle=0)\n",
            "Rectangle(xy=(11.1583, 0), width=0.991667, height=86, angle=0)\n",
            "Rectangle(xy=(12.15, 0), width=0.991667, height=13, angle=0)\n",
            "Rectangle(xy=(13.1417, 0), width=0.991667, height=17, angle=0)\n",
            "Rectangle(xy=(14.1333, 0), width=0.991667, height=418, angle=0)\n",
            "Rectangle(xy=(15.125, 0), width=0.991667, height=6, angle=0)\n",
            "Rectangle(xy=(16.1167, 0), width=0.991667, height=1, angle=0)\n",
            "Rectangle(xy=(17.1083, 0), width=0.991667, height=10, angle=0)\n",
            "Rectangle(xy=(18.1, 0), width=0.991667, height=0, angle=0)\n",
            "Rectangle(xy=(19.0917, 0), width=0.991667, height=5, angle=0)\n",
            "Rectangle(xy=(20.0833, 0), width=0.991667, height=0, angle=0)\n",
            "Rectangle(xy=(21.075, 0), width=0.991667, height=0, angle=0)\n",
            "Rectangle(xy=(22.0667, 0), width=0.991667, height=0, angle=0)\n",
            "Rectangle(xy=(23.0583, 0), width=0.991667, height=0, angle=0)\n",
            "Rectangle(xy=(24.05, 0), width=0.991667, height=1, angle=0)\n",
            "Rectangle(xy=(25.0417, 0), width=0.991667, height=0, angle=0)\n",
            "Rectangle(xy=(26.0333, 0), width=0.991667, height=0, angle=0)\n",
            "Rectangle(xy=(27.025, 0), width=0.991667, height=0, angle=0)\n",
            "Rectangle(xy=(28.0167, 0), width=0.991667, height=0, angle=0)\n",
            "Rectangle(xy=(29.0083, 0), width=0.991667, height=2, angle=0)\n",
            "Line2D(_line0)\n",
            "Spine\n",
            "Spine\n",
            "Spine\n",
            "Spine\n",
            "XAxis(108.0,927.7669565217392)\n",
            "YAxis(108.0,927.7669565217392)\n",
            "Text(0.5, 1.0, '')\n",
            "Text(0.0, 1.0, '')\n",
            "Text(1.0, 1.0, '')\n",
            "Rectangle(xy=(0, 0), width=1, height=1, angle=0)\n"
          ]
        }
      ]
    },
    {
      "cell_type": "markdown",
      "source": [
        "###end of fun"
      ],
      "metadata": {
        "id": "3BKEVHc1KPB8"
      }
    },
    {
      "cell_type": "code",
      "source": [
        "# Visualization 2 -Heatmap.\n",
        "fig = sns.heatmap(sat_data.corr(), vmin=-1, vmax=1, cmap='coolwarm', annot=True, annot_kws={'fontsize':7})"
      ],
      "metadata": {
        "colab": {
          "base_uri": "https://localhost:8080/",
          "height": 340
        },
        "id": "c0TzU3CWqVDZ",
        "outputId": "f5b6b721-f83b-470b-e432-e48d186a0261"
      },
      "execution_count": null,
      "outputs": [
        {
          "output_type": "display_data",
          "data": {
            "text/plain": [
              "<Figure size 432x288 with 2 Axes>"
            ],
            "image/png": "[encoded data removed]"
          },
          "metadata": {}
        }
      ]
    },
    {
      "cell_type": "code",
      "source": [
        "# Visualization 3 - Pie Chart\n",
        "orbit_count = sat_data['orbit_class'].value_counts()\n",
        "\n",
        "print(orbit_count)"
      ],
      "metadata": {
        "colab": {
          "base_uri": "https://localhost:8080/"
        },
        "id": "AV8PiN_xqbTJ",
        "outputId": "d493db31-c610-42ae-b1d9-d6230920803a"
      },
      "execution_count": null,
      "outputs": [
        {
          "output_type": "stream",
          "name": "stdout",
          "text": [
            "LEO      2455\n",
            "GEO       488\n",
            "MEO       119\n",
            "Ellip      33\n",
            "Name: orbit_class, dtype: int64\n"
          ]
        }
      ]
    },
    {
      "cell_type": "code",
      "source": [
        "values = sat_data['orbit_class'].value_counts().keys().tolist()\n",
        "counts = sat_data['orbit_class'].value_counts().tolist()\n",
        "\n",
        "print(values)"
      ],
      "metadata": {
        "colab": {
          "base_uri": "https://localhost:8080/"
        },
        "id": "X8KTwsws0l5Y",
        "outputId": "9cddb9e1-0019-46dd-8a24-757f54b27bb6"
      },
      "execution_count": null,
      "outputs": [
        {
          "output_type": "stream",
          "name": "stdout",
          "text": [
            "['LEO', 'GEO', 'MEO', 'Ellip']\n"
          ]
        }
      ]
    },
    {
      "cell_type": "code",
      "source": [
        "ax = orbit_count.plot(kind='pie',\n",
        "                      subplots=True,\n",
        "                      shadow = True,\n",
        "                      startangle=80,\n",
        "                      figsize=(6,10),\n",
        "                      autopct='%.0f%%')"
      ],
      "metadata": {
        "colab": {
          "base_uri": "https://localhost:8080/",
          "height": 366
        },
        "id": "Pl-0onmfqd--",
        "outputId": "8d13d95d-e6e1-4d3f-9406-5f0be2320709"
      },
      "execution_count": null,
      "outputs": [
        {
          "output_type": "display_data",
          "data": {
            "text/plain": [
              "<Figure size 432x720 with 1 Axes>"
            ],
            "image/png": "[encoded data removed]"
          },
          "metadata": {}
        }
      ]
    },
    {
      "cell_type": "code",
      "source": [
        "fig, ax = plt.subplots()\n",
        "\n",
        "ax.pie(counts,\n",
        "       autopct='%.0f%%',\n",
        "       labels = values)"
      ],
      "metadata": {
        "colab": {
          "base_uri": "https://localhost:8080/",
          "height": 456
        },
        "id": "3q8pfERzyT2V",
        "outputId": "e2a98614-8454-43b2-a38d-a9128e46ae02"
      },
      "execution_count": null,
      "outputs": [
        {
          "output_type": "execute_result",
          "data": {
            "text/plain": [
              "([<matplotlib.patches.Wedge at 0x7f13f3efd7d0>,\n",
              "  <matplotlib.patches.Wedge at 0x7f13f3efded0>,\n",
              "  <matplotlib.patches.Wedge at 0x7f13f3f08790>,\n",
              "  <matplotlib.patches.Wedge at 0x7f13f3f150d0>],\n",
              " [Text(-0.8759353124681468, 0.6653850977977566, 'LEO'),\n",
              "  Text(0.7632759480191034, -0.7920920572607323, 'GEO'),\n",
              "  Text(1.08066215866403, -0.20535164677109166, 'MEO'),\n",
              "  Text(1.0993829386171659, -0.036839574881981973, 'Ellip')],\n",
              " [Text(-0.47778289770989824, 0.3629373260715036, '79%'),\n",
              "  Text(0.4163323352831472, -0.4320502130513085, '16%'),\n",
              "  Text(0.5894520865440163, -0.11200998914786818, '4%'),\n",
              "  Text(0.5996634210639086, -0.020094313571990163, '1%')])"
            ]
          },
          "metadata": {},
          "execution_count": 13
        },
        {
          "output_type": "display_data",
          "data": {
            "text/plain": [
              "<Figure size 432x288 with 1 Axes>"
            ],
            "image/png": "[encoded data removed]"
          },
          "metadata": {}
        }
      ]
    },
    {
      "cell_type": "code",
      "source": [],
      "metadata": {
        "id": "QMrMxZDG1O_U"
      },
      "execution_count": null,
      "outputs": []
    },
    {
      "cell_type": "code",
      "source": [
        "# Sample data of original data\n",
        "sat_data.head(10)"
      ],
      "metadata": {
        "colab": {
          "base_uri": "https://localhost:8080/",
          "height": 363
        },
        "id": "HyOcHFlMqjuf",
        "outputId": "cb8ce15b-dcdd-474e-d40d-58303ce3b521"
      },
      "execution_count": null,
      "outputs": [
        {
          "output_type": "execute_result",
          "data": {
            "text/plain": [
              "   life orbit_class  geo_longitude  perigee  apogee  eccentricity  \\\n",
              "0   1.0       Ellip            0.0      460   33200      0.705603   \n",
              "1   1.0       Ellip            0.0      952    1155      0.013673   \n",
              "2   2.0       Ellip            0.0     6292  156833      0.856003   \n",
              "3   2.0       Ellip            0.0      461   87304      0.864066   \n",
              "4   2.0       Ellip            0.0      467   87260      0.863896   \n",
              "5   2.0       Ellip            0.0      474   87526      0.864125   \n",
              "6   3.0       Ellip            0.0     1375   70009      0.815867   \n",
              "7   3.0       Ellip            0.0     1357   70117      0.816491   \n",
              "8   3.0       Ellip            0.0     1429   70045      0.814781   \n",
              "9   3.0       Ellip            0.0     1317   70157      0.817441   \n",
              "\n",
              "   inclination   period  launch_mass   gov    com    mil  \n",
              "0        31.00   580.00        350.0  True  False  False  \n",
              "1        31.00   106.27        348.0  True  False  False  \n",
              "2        53.95  4032.86       4000.0  True  False  False  \n",
              "3        15.70  1868.98        126.0  True  False  False  \n",
              "4        15.70  1867.91        126.0  True  False  False  \n",
              "5        15.70  1875.53        126.0  True  False  False  \n",
              "6        28.90  1433.00       1360.0  True  False  False  \n",
              "7        29.00  1433.00       1360.0  True  False  False  \n",
              "8        29.00  1433.00       1360.0  True  False  False  \n",
              "9        29.00  1433.00       1360.0  True  False  False  "
            ],
            "text/html": [
              "\n",
              "  <div id=\"df-a6efc79a-3aad-4d10-8562-fa85cc56e0a7\">\n",
              "    <div class=\"colab-df-container\">\n",
              "      <div>\n",
              "<style scoped>\n",
              "    .dataframe tbody tr th:only-of-type {\n",
              "        vertical-align: middle;\n",
              "    }\n",
              "\n",
              "    .dataframe tbody tr th {\n",
              "        vertical-align: top;\n",
              "    }\n",
              "\n",
              "    .dataframe thead th {\n",
              "        text-align: right;\n",
              "    }\n",
              "</style>\n",
              "<table border=\"1\" class=\"dataframe\">\n",
              "  <thead>\n",
              "    <tr style=\"text-align: right;\">\n",
              "      <th></th>\n",
              "      <th>life</th>\n",
              "      <th>orbit_class</th>\n",
              "      <th>geo_longitude</th>\n",
              "      <th>perigee</th>\n",
              "      <th>apogee</th>\n",
              "      <th>eccentricity</th>\n",
              "      <th>inclination</th>\n",
              "      <th>period</th>\n",
              "      <th>launch_mass</th>\n",
              "      <th>gov</th>\n",
              "      <th>com</th>\n",
              "      <th>mil</th>\n",
              "    </tr>\n",
              "  </thead>\n",
              "  <tbody>\n",
              "    <tr>\n",
              "      <th>0</th>\n",
              "      <td>1.0</td>\n",
              "      <td>Ellip</td>\n",
              "      <td>0.0</td>\n",
              "      <td>460</td>\n",
              "      <td>33200</td>\n",
              "      <td>0.705603</td>\n",
              "      <td>31.00</td>\n",
              "      <td>580.00</td>\n",
              "      <td>350.0</td>\n",
              "      <td>True</td>\n",
              "      <td>False</td>\n",
              "      <td>False</td>\n",
              "    </tr>\n",
              "    <tr>\n",
              "      <th>1</th>\n",
              "      <td>1.0</td>\n",
              "      <td>Ellip</td>\n",
              "      <td>0.0</td>\n",
              "      <td>952</td>\n",
              "      <td>1155</td>\n",
              "      <td>0.013673</td>\n",
              "      <td>31.00</td>\n",
              "      <td>106.27</td>\n",
              "      <td>348.0</td>\n",
              "      <td>True</td>\n",
              "      <td>False</td>\n",
              "      <td>False</td>\n",
              "    </tr>\n",
              "    <tr>\n",
              "      <th>2</th>\n",
              "      <td>2.0</td>\n",
              "      <td>Ellip</td>\n",
              "      <td>0.0</td>\n",
              "      <td>6292</td>\n",
              "      <td>156833</td>\n",
              "      <td>0.856003</td>\n",
              "      <td>53.95</td>\n",
              "      <td>4032.86</td>\n",
              "      <td>4000.0</td>\n",
              "      <td>True</td>\n",
              "      <td>False</td>\n",
              "      <td>False</td>\n",
              "    </tr>\n",
              "    <tr>\n",
              "      <th>3</th>\n",
              "      <td>2.0</td>\n",
              "      <td>Ellip</td>\n",
              "      <td>0.0</td>\n",
              "      <td>461</td>\n",
              "      <td>87304</td>\n",
              "      <td>0.864066</td>\n",
              "      <td>15.70</td>\n",
              "      <td>1868.98</td>\n",
              "      <td>126.0</td>\n",
              "      <td>True</td>\n",
              "      <td>False</td>\n",
              "      <td>False</td>\n",
              "    </tr>\n",
              "    <tr>\n",
              "      <th>4</th>\n",
              "      <td>2.0</td>\n",
              "      <td>Ellip</td>\n",
              "      <td>0.0</td>\n",
              "      <td>467</td>\n",
              "      <td>87260</td>\n",
              "      <td>0.863896</td>\n",
              "      <td>15.70</td>\n",
              "      <td>1867.91</td>\n",
              "      <td>126.0</td>\n",
              "      <td>True</td>\n",
              "      <td>False</td>\n",
              "      <td>False</td>\n",
              "    </tr>\n",
              "    <tr>\n",
              "      <th>5</th>\n",
              "      <td>2.0</td>\n",
              "      <td>Ellip</td>\n",
              "      <td>0.0</td>\n",
              "      <td>474</td>\n",
              "      <td>87526</td>\n",
              "      <td>0.864125</td>\n",
              "      <td>15.70</td>\n",
              "      <td>1875.53</td>\n",
              "      <td>126.0</td>\n",
              "      <td>True</td>\n",
              "      <td>False</td>\n",
              "      <td>False</td>\n",
              "    </tr>\n",
              "    <tr>\n",
              "      <th>6</th>\n",
              "      <td>3.0</td>\n",
              "      <td>Ellip</td>\n",
              "      <td>0.0</td>\n",
              "      <td>1375</td>\n",
              "      <td>70009</td>\n",
              "      <td>0.815867</td>\n",
              "      <td>28.90</td>\n",
              "      <td>1433.00</td>\n",
              "      <td>1360.0</td>\n",
              "      <td>True</td>\n",
              "      <td>False</td>\n",
              "      <td>False</td>\n",
              "    </tr>\n",
              "    <tr>\n",
              "      <th>7</th>\n",
              "      <td>3.0</td>\n",
              "      <td>Ellip</td>\n",
              "      <td>0.0</td>\n",
              "      <td>1357</td>\n",
              "      <td>70117</td>\n",
              "      <td>0.816491</td>\n",
              "      <td>29.00</td>\n",
              "      <td>1433.00</td>\n",
              "      <td>1360.0</td>\n",
              "      <td>True</td>\n",
              "      <td>False</td>\n",
              "      <td>False</td>\n",
              "    </tr>\n",
              "    <tr>\n",
              "      <th>8</th>\n",
              "      <td>3.0</td>\n",
              "      <td>Ellip</td>\n",
              "      <td>0.0</td>\n",
              "      <td>1429</td>\n",
              "      <td>70045</td>\n",
              "      <td>0.814781</td>\n",
              "      <td>29.00</td>\n",
              "      <td>1433.00</td>\n",
              "      <td>1360.0</td>\n",
              "      <td>True</td>\n",
              "      <td>False</td>\n",
              "      <td>False</td>\n",
              "    </tr>\n",
              "    <tr>\n",
              "      <th>9</th>\n",
              "      <td>3.0</td>\n",
              "      <td>Ellip</td>\n",
              "      <td>0.0</td>\n",
              "      <td>1317</td>\n",
              "      <td>70157</td>\n",
              "      <td>0.817441</td>\n",
              "      <td>29.00</td>\n",
              "      <td>1433.00</td>\n",
              "      <td>1360.0</td>\n",
              "      <td>True</td>\n",
              "      <td>False</td>\n",
              "      <td>False</td>\n",
              "    </tr>\n",
              "  </tbody>\n",
              "</table>\n",
              "</div>\n",
              "      <button class=\"colab-df-convert\" onclick=\"convertToInteractive('df-a6efc79a-3aad-4d10-8562-fa85cc56e0a7')\"\n",
              "              title=\"Convert this dataframe to an interactive table.\"\n",
              "              style=\"display:none;\">\n",
              "        \n",
              "  <svg xmlns=\"http://www.w3.org/2000/svg\" height=\"24px\"viewBox=\"0 0 24 24\"\n",
              "       width=\"24px\">\n",
              "    <path d=\"M0 0h24v24H0V0z\" fill=\"none\"/>\n",
              "    <path d=\"M18.56 5.44l.94 2.06.94-2.06 2.06-.94-2.06-.94-.94-2.06-.94 2.06-2.06.94zm-11 1L8.5 8.5l.94-2.06 2.06-.94-2.06-.94L8.5 2.5l-.94 2.06-2.06.94zm10 10l.94 2.06.94-2.06 2.06-.94-2.06-.94-.94-2.06-.94 2.06-2.06.94z\"/><path d=\"M17.41 7.96l-1.37-1.37c-.4-.4-.92-.59-1.43-.59-.52 0-1.04.2-1.43.59L10.3 9.45l-7.72 7.72c-.78.78-.78 2.05 0 2.83L4 21.41c.39.39.9.59 1.41.59.51 0 1.02-.2 1.41-.59l7.78-7.78 2.81-2.81c.8-.78.8-2.07 0-2.86zM5.41 20L4 18.59l7.72-7.72 1.47 1.35L5.41 20z\"/>\n",
              "  </svg>\n",
              "      </button>\n",
              "      \n",
              "  <style>\n",
              "    .colab-df-container {\n",
              "      display:flex;\n",
              "      flex-wrap:wrap;\n",
              "      gap: 12px;\n",
              "    }\n",
              "\n",
              "    .colab-df-convert {\n",
              "      background-color: #E8F0FE;\n",
              "      border: none;\n",
              "      border-radius: 50%;\n",
              "      cursor: pointer;\n",
              "      display: none;\n",
              "      fill: #1967D2;\n",
              "      height: 32px;\n",
              "      padding: 0 0 0 0;\n",
              "      width: 32px;\n",
              "    }\n",
              "\n",
              "    .colab-df-convert:hover {\n",
              "      background-color: #E2EBFA;\n",
              "      box-shadow: 0px 1px 2px rgba(60, 64, 67, 0.3), 0px 1px 3px 1px rgba(60, 64, 67, 0.15);\n",
              "      fill: #174EA6;\n",
              "    }\n",
              "\n",
              "    [theme=dark] .colab-df-convert {\n",
              "      background-color: #3B4455;\n",
              "      fill: #D2E3FC;\n",
              "    }\n",
              "\n",
              "    [theme=dark] .colab-df-convert:hover {\n",
              "      background-color: #434B5C;\n",
              "      box-shadow: 0px 1px 3px 1px rgba(0, 0, 0, 0.15);\n",
              "      filter: drop-shadow(0px 1px 2px rgba(0, 0, 0, 0.3));\n",
              "      fill: #FFFFFF;\n",
              "    }\n",
              "  </style>\n",
              "\n",
              "      <script>\n",
              "        const buttonEl =\n",
              "          document.querySelector('#df-a6efc79a-3aad-4d10-8562-fa85cc56e0a7 button.colab-df-convert');\n",
              "        buttonEl.style.display =\n",
              "          google.colab.kernel.accessAllowed ? 'block' : 'none';\n",
              "\n",
              "        async function convertToInteractive(key) {\n",
              "          const element = document.querySelector('#df-a6efc79a-3aad-4d10-8562-fa85cc56e0a7');\n",
              "          const dataTable =\n",
              "            await google.colab.kernel.invokeFunction('convertToInteractive',\n",
              "                                                     [key], {});\n",
              "          if (!dataTable) return;\n",
              "\n",
              "          const docLinkHtml = 'Like what you see? Visit the ' +\n",
              "            '<a target=\"_blank\" href=https://colab.research.google.com/notebooks/data_table.ipynb>data table notebook</a>'\n",
              "            + ' to learn more about interactive tables.';\n",
              "          element.innerHTML = '';\n",
              "          dataTable['output_type'] = 'display_data';\n",
              "          await google.colab.output.renderOutput(dataTable, element);\n",
              "          const docLink = document.createElement('div');\n",
              "          docLink.innerHTML = docLinkHtml;\n",
              "          element.appendChild(docLink);\n",
              "        }\n",
              "      </script>\n",
              "    </div>\n",
              "  </div>\n",
              "  "
            ]
          },
          "metadata": {},
          "execution_count": 14
        }
      ]
    },
    {
      "cell_type": "markdown",
      "source": [
        "# **Data Preparation**\n"
      ],
      "metadata": {
        "id": "m-oxqmaJPu1F"
      }
    },
    {
      "cell_type": "markdown",
      "source": [
        "Clean the data"
      ],
      "metadata": {
        "id": "IIQ2nT1f0Wfa"
      }
    },
    {
      "cell_type": "code",
      "source": [
        "# One-hot encode dummy variables\n",
        "sat_data_v2 = pd.get_dummies(sat_data, columns=['orbit_class','gov', 'com','mil'], drop_first=True)\n",
        "sat_data_v2"
      ],
      "metadata": {
        "colab": {
          "base_uri": "https://localhost:8080/",
          "height": 488
        },
        "id": "A5iOVYMs0Zvp",
        "outputId": "b75ff240-a387-4c34-84eb-e7f8c73fbde3"
      },
      "execution_count": null,
      "outputs": [
        {
          "output_type": "execute_result",
          "data": {
            "text/plain": [
              "      life  geo_longitude  perigee  apogee  eccentricity  inclination  \\\n",
              "0      1.0            0.0      460   33200      0.705603        31.00   \n",
              "1      1.0            0.0      952    1155      0.013673        31.00   \n",
              "2      2.0            0.0     6292  156833      0.856003        53.95   \n",
              "3      2.0            0.0      461   87304      0.864066        15.70   \n",
              "4      2.0            0.0      467   87260      0.863896        15.70   \n",
              "...    ...            ...      ...     ...           ...          ...   \n",
              "3090  15.0            0.0    20171   20189      0.000339        54.90   \n",
              "3091  15.0            0.0    20188   20203      0.000282        55.10   \n",
              "3092  15.0            0.0    20165   20199      0.000640        55.06   \n",
              "3093  15.0            0.0    20178   20186      0.000151        55.00   \n",
              "3094  15.0            0.0    20168   20198      0.000565        55.00   \n",
              "\n",
              "       period  launch_mass  orbit_class_GEO  orbit_class_LEO  orbit_class_MEO  \\\n",
              "0      580.00        350.0                0                0                0   \n",
              "1      106.27        348.0                0                0                0   \n",
              "2     4032.86       4000.0                0                0                0   \n",
              "3     1868.98        126.0                0                0                0   \n",
              "4     1867.91        126.0                0                0                0   \n",
              "...       ...          ...              ...              ...              ...   \n",
              "3090   717.88       2300.0                0                0                1   \n",
              "3091   718.01       2300.0                0                0                1   \n",
              "3092   717.90       2300.0                0                0                1   \n",
              "3093   717.90       2300.0                0                0                1   \n",
              "3094   717.90       2300.0                0                0                1   \n",
              "\n",
              "      gov_True  com_True  mil_True  \n",
              "0            1         0         0  \n",
              "1            1         0         0  \n",
              "2            1         0         0  \n",
              "3            1         0         0  \n",
              "4            1         0         0  \n",
              "...        ...       ...       ...  \n",
              "3090         0         1         1  \n",
              "3091         0         1         1  \n",
              "3092         0         1         1  \n",
              "3093         0         1         1  \n",
              "3094         0         1         1  \n",
              "\n",
              "[3095 rows x 14 columns]"
            ],
            "text/html": [
              "\n",
              "  <div id=\"df-4e761118-2b97-4343-a46a-afd53353ee16\">\n",
              "    <div class=\"colab-df-container\">\n",
              "      <div>\n",
              "<style scoped>\n",
              "    .dataframe tbody tr th:only-of-type {\n",
              "        vertical-align: middle;\n",
              "    }\n",
              "\n",
              "    .dataframe tbody tr th {\n",
              "        vertical-align: top;\n",
              "    }\n",
              "\n",
              "    .dataframe thead th {\n",
              "        text-align: right;\n",
              "    }\n",
              "</style>\n",
              "<table border=\"1\" class=\"dataframe\">\n",
              "  <thead>\n",
              "    <tr style=\"text-align: right;\">\n",
              "      <th></th>\n",
              "      <th>life</th>\n",
              "      <th>geo_longitude</th>\n",
              "      <th>perigee</th>\n",
              "      <th>apogee</th>\n",
              "      <th>eccentricity</th>\n",
              "      <th>inclination</th>\n",
              "      <th>period</th>\n",
              "      <th>launch_mass</th>\n",
              "      <th>orbit_class_GEO</th>\n",
              "      <th>orbit_class_LEO</th>\n",
              "      <th>orbit_class_MEO</th>\n",
              "      <th>gov_True</th>\n",
              "      <th>com_True</th>\n",
              "      <th>mil_True</th>\n",
              "    </tr>\n",
              "  </thead>\n",
              "  <tbody>\n",
              "    <tr>\n",
              "      <th>0</th>\n",
              "      <td>1.0</td>\n",
              "      <td>0.0</td>\n",
              "      <td>460</td>\n",
              "      <td>33200</td>\n",
              "      <td>0.705603</td>\n",
              "      <td>31.00</td>\n",
              "      <td>580.00</td>\n",
              "      <td>350.0</td>\n",
              "      <td>0</td>\n",
              "      <td>0</td>\n",
              "      <td>0</td>\n",
              "      <td>1</td>\n",
              "      <td>0</td>\n",
              "      <td>0</td>\n",
              "    </tr>\n",
              "    <tr>\n",
              "      <th>1</th>\n",
              "      <td>1.0</td>\n",
              "      <td>0.0</td>\n",
              "      <td>952</td>\n",
              "      <td>1155</td>\n",
              "      <td>0.013673</td>\n",
              "      <td>31.00</td>\n",
              "      <td>106.27</td>\n",
              "      <td>348.0</td>\n",
              "      <td>0</td>\n",
              "      <td>0</td>\n",
              "      <td>0</td>\n",
              "      <td>1</td>\n",
              "      <td>0</td>\n",
              "      <td>0</td>\n",
              "    </tr>\n",
              "    <tr>\n",
              "      <th>2</th>\n",
              "      <td>2.0</td>\n",
              "      <td>0.0</td>\n",
              "      <td>6292</td>\n",
              "      <td>156833</td>\n",
              "      <td>0.856003</td>\n",
              "      <td>53.95</td>\n",
              "      <td>4032.86</td>\n",
              "      <td>4000.0</td>\n",
              "      <td>0</td>\n",
              "      <td>0</td>\n",
              "      <td>0</td>\n",
              "      <td>1</td>\n",
              "      <td>0</td>\n",
              "      <td>0</td>\n",
              "    </tr>\n",
              "    <tr>\n",
              "      <th>3</th>\n",
              "      <td>2.0</td>\n",
              "      <td>0.0</td>\n",
              "      <td>461</td>\n",
              "      <td>87304</td>\n",
              "      <td>0.864066</td>\n",
              "      <td>15.70</td>\n",
              "      <td>1868.98</td>\n",
              "      <td>126.0</td>\n",
              "      <td>0</td>\n",
              "      <td>0</td>\n",
              "      <td>0</td>\n",
              "      <td>1</td>\n",
              "      <td>0</td>\n",
              "      <td>0</td>\n",
              "    </tr>\n",
              "    <tr>\n",
              "      <th>4</th>\n",
              "      <td>2.0</td>\n",
              "      <td>0.0</td>\n",
              "      <td>467</td>\n",
              "      <td>87260</td>\n",
              "      <td>0.863896</td>\n",
              "      <td>15.70</td>\n",
              "      <td>1867.91</td>\n",
              "      <td>126.0</td>\n",
              "      <td>0</td>\n",
              "      <td>0</td>\n",
              "      <td>0</td>\n",
              "      <td>1</td>\n",
              "      <td>0</td>\n",
              "      <td>0</td>\n",
              "    </tr>\n",
              "    <tr>\n",
              "      <th>...</th>\n",
              "      <td>...</td>\n",
              "      <td>...</td>\n",
              "      <td>...</td>\n",
              "      <td>...</td>\n",
              "      <td>...</td>\n",
              "      <td>...</td>\n",
              "      <td>...</td>\n",
              "      <td>...</td>\n",
              "      <td>...</td>\n",
              "      <td>...</td>\n",
              "      <td>...</td>\n",
              "      <td>...</td>\n",
              "      <td>...</td>\n",
              "      <td>...</td>\n",
              "    </tr>\n",
              "    <tr>\n",
              "      <th>3090</th>\n",
              "      <td>15.0</td>\n",
              "      <td>0.0</td>\n",
              "      <td>20171</td>\n",
              "      <td>20189</td>\n",
              "      <td>0.000339</td>\n",
              "      <td>54.90</td>\n",
              "      <td>717.88</td>\n",
              "      <td>2300.0</td>\n",
              "      <td>0</td>\n",
              "      <td>0</td>\n",
              "      <td>1</td>\n",
              "      <td>0</td>\n",
              "      <td>1</td>\n",
              "      <td>1</td>\n",
              "    </tr>\n",
              "    <tr>\n",
              "      <th>3091</th>\n",
              "      <td>15.0</td>\n",
              "      <td>0.0</td>\n",
              "      <td>20188</td>\n",
              "      <td>20203</td>\n",
              "      <td>0.000282</td>\n",
              "      <td>55.10</td>\n",
              "      <td>718.01</td>\n",
              "      <td>2300.0</td>\n",
              "      <td>0</td>\n",
              "      <td>0</td>\n",
              "      <td>1</td>\n",
              "      <td>0</td>\n",
              "      <td>1</td>\n",
              "      <td>1</td>\n",
              "    </tr>\n",
              "    <tr>\n",
              "      <th>3092</th>\n",
              "      <td>15.0</td>\n",
              "      <td>0.0</td>\n",
              "      <td>20165</td>\n",
              "      <td>20199</td>\n",
              "      <td>0.000640</td>\n",
              "      <td>55.06</td>\n",
              "      <td>717.90</td>\n",
              "      <td>2300.0</td>\n",
              "      <td>0</td>\n",
              "      <td>0</td>\n",
              "      <td>1</td>\n",
              "      <td>0</td>\n",
              "      <td>1</td>\n",
              "      <td>1</td>\n",
              "    </tr>\n",
              "    <tr>\n",
              "      <th>3093</th>\n",
              "      <td>15.0</td>\n",
              "      <td>0.0</td>\n",
              "      <td>20178</td>\n",
              "      <td>20186</td>\n",
              "      <td>0.000151</td>\n",
              "      <td>55.00</td>\n",
              "      <td>717.90</td>\n",
              "      <td>2300.0</td>\n",
              "      <td>0</td>\n",
              "      <td>0</td>\n",
              "      <td>1</td>\n",
              "      <td>0</td>\n",
              "      <td>1</td>\n",
              "      <td>1</td>\n",
              "    </tr>\n",
              "    <tr>\n",
              "      <th>3094</th>\n",
              "      <td>15.0</td>\n",
              "      <td>0.0</td>\n",
              "      <td>20168</td>\n",
              "      <td>20198</td>\n",
              "      <td>0.000565</td>\n",
              "      <td>55.00</td>\n",
              "      <td>717.90</td>\n",
              "      <td>2300.0</td>\n",
              "      <td>0</td>\n",
              "      <td>0</td>\n",
              "      <td>1</td>\n",
              "      <td>0</td>\n",
              "      <td>1</td>\n",
              "      <td>1</td>\n",
              "    </tr>\n",
              "  </tbody>\n",
              "</table>\n",
              "<p>3095 rows × 14 columns</p>\n",
              "</div>\n",
              "      <button class=\"colab-df-convert\" onclick=\"convertToInteractive('df-4e761118-2b97-4343-a46a-afd53353ee16')\"\n",
              "              title=\"Convert this dataframe to an interactive table.\"\n",
              "              style=\"display:none;\">\n",
              "        \n",
              "  <svg xmlns=\"http://www.w3.org/2000/svg\" height=\"24px\"viewBox=\"0 0 24 24\"\n",
              "       width=\"24px\">\n",
              "    <path d=\"M0 0h24v24H0V0z\" fill=\"none\"/>\n",
              "    <path d=\"M18.56 5.44l.94 2.06.94-2.06 2.06-.94-2.06-.94-.94-2.06-.94 2.06-2.06.94zm-11 1L8.5 8.5l.94-2.06 2.06-.94-2.06-.94L8.5 2.5l-.94 2.06-2.06.94zm10 10l.94 2.06.94-2.06 2.06-.94-2.06-.94-.94-2.06-.94 2.06-2.06.94z\"/><path d=\"M17.41 7.96l-1.37-1.37c-.4-.4-.92-.59-1.43-.59-.52 0-1.04.2-1.43.59L10.3 9.45l-7.72 7.72c-.78.78-.78 2.05 0 2.83L4 21.41c.39.39.9.59 1.41.59.51 0 1.02-.2 1.41-.59l7.78-7.78 2.81-2.81c.8-.78.8-2.07 0-2.86zM5.41 20L4 18.59l7.72-7.72 1.47 1.35L5.41 20z\"/>\n",
              "  </svg>\n",
              "      </button>\n",
              "      \n",
              "  <style>\n",
              "    .colab-df-container {\n",
              "      display:flex;\n",
              "      flex-wrap:wrap;\n",
              "      gap: 12px;\n",
              "    }\n",
              "\n",
              "    .colab-df-convert {\n",
              "      background-color: #E8F0FE;\n",
              "      border: none;\n",
              "      border-radius: 50%;\n",
              "      cursor: pointer;\n",
              "      display: none;\n",
              "      fill: #1967D2;\n",
              "      height: 32px;\n",
              "      padding: 0 0 0 0;\n",
              "      width: 32px;\n",
              "    }\n",
              "\n",
              "    .colab-df-convert:hover {\n",
              "      background-color: #E2EBFA;\n",
              "      box-shadow: 0px 1px 2px rgba(60, 64, 67, 0.3), 0px 1px 3px 1px rgba(60, 64, 67, 0.15);\n",
              "      fill: #174EA6;\n",
              "    }\n",
              "\n",
              "    [theme=dark] .colab-df-convert {\n",
              "      background-color: #3B4455;\n",
              "      fill: #D2E3FC;\n",
              "    }\n",
              "\n",
              "    [theme=dark] .colab-df-convert:hover {\n",
              "      background-color: #434B5C;\n",
              "      box-shadow: 0px 1px 3px 1px rgba(0, 0, 0, 0.15);\n",
              "      filter: drop-shadow(0px 1px 2px rgba(0, 0, 0, 0.3));\n",
              "      fill: #FFFFFF;\n",
              "    }\n",
              "  </style>\n",
              "\n",
              "      <script>\n",
              "        const buttonEl =\n",
              "          document.querySelector('#df-4e761118-2b97-4343-a46a-afd53353ee16 button.colab-df-convert');\n",
              "        buttonEl.style.display =\n",
              "          google.colab.kernel.accessAllowed ? 'block' : 'none';\n",
              "\n",
              "        async function convertToInteractive(key) {\n",
              "          const element = document.querySelector('#df-4e761118-2b97-4343-a46a-afd53353ee16');\n",
              "          const dataTable =\n",
              "            await google.colab.kernel.invokeFunction('convertToInteractive',\n",
              "                                                     [key], {});\n",
              "          if (!dataTable) return;\n",
              "\n",
              "          const docLinkHtml = 'Like what you see? Visit the ' +\n",
              "            '<a target=\"_blank\" href=https://colab.research.google.com/notebooks/data_table.ipynb>data table notebook</a>'\n",
              "            + ' to learn more about interactive tables.';\n",
              "          element.innerHTML = '';\n",
              "          dataTable['output_type'] = 'display_data';\n",
              "          await google.colab.output.renderOutput(dataTable, element);\n",
              "          const docLink = document.createElement('div');\n",
              "          docLink.innerHTML = docLinkHtml;\n",
              "          element.appendChild(docLink);\n",
              "        }\n",
              "      </script>\n",
              "    </div>\n",
              "  </div>\n",
              "  "
            ]
          },
          "metadata": {},
          "execution_count": 15
        }
      ]
    },
    {
      "cell_type": "code",
      "source": [
        "# Identify and remove NaN to simplify modeling.\n",
        "sat_data_v2.isna().sum()"
      ],
      "metadata": {
        "colab": {
          "base_uri": "https://localhost:8080/"
        },
        "id": "BKAnq5lqX94N",
        "outputId": "b00dcdea-7459-4c16-94bc-0fa1442410f1"
      },
      "execution_count": null,
      "outputs": [
        {
          "output_type": "execute_result",
          "data": {
            "text/plain": [
              "life                0\n",
              "geo_longitude       0\n",
              "perigee             0\n",
              "apogee              0\n",
              "eccentricity        0\n",
              "inclination         0\n",
              "period              4\n",
              "launch_mass        25\n",
              "orbit_class_GEO     0\n",
              "orbit_class_LEO     0\n",
              "orbit_class_MEO     0\n",
              "gov_True            0\n",
              "com_True            0\n",
              "mil_True            0\n",
              "dtype: int64"
            ]
          },
          "metadata": {},
          "execution_count": 16
        }
      ]
    },
    {
      "cell_type": "code",
      "source": [
        "# Drop NaN\n",
        "sat_data_v3 = sat_data_v2.dropna()"
      ],
      "metadata": {
        "id": "X5XtOtroYbWS"
      },
      "execution_count": null,
      "outputs": []
    },
    {
      "cell_type": "code",
      "source": [
        "# Check NaN\n",
        "sat_data_v3.isna().sum()"
      ],
      "metadata": {
        "colab": {
          "base_uri": "https://localhost:8080/"
        },
        "id": "nbMDYPjwYgC_",
        "outputId": "989ea8fe-f651-4b8c-d3fe-898e7e2319e2"
      },
      "execution_count": null,
      "outputs": [
        {
          "output_type": "execute_result",
          "data": {
            "text/plain": [
              "life               0\n",
              "geo_longitude      0\n",
              "perigee            0\n",
              "apogee             0\n",
              "eccentricity       0\n",
              "inclination        0\n",
              "period             0\n",
              "launch_mass        0\n",
              "orbit_class_GEO    0\n",
              "orbit_class_LEO    0\n",
              "orbit_class_MEO    0\n",
              "gov_True           0\n",
              "com_True           0\n",
              "mil_True           0\n",
              "dtype: int64"
            ]
          },
          "metadata": {},
          "execution_count": 18
        }
      ]
    },
    {
      "cell_type": "markdown",
      "source": [
        "Data Split"
      ],
      "metadata": {
        "id": "fIlJ87_lP15k"
      }
    },
    {
      "cell_type": "code",
      "source": [
        "# Split the data\n",
        "\n",
        "# set up X & Y variables\n",
        "X = sat_data_v3.loc[:, sat_data_v3.columns != 'life']\n",
        "y = sat_data_v3.loc[:, sat_data_v3.columns == 'life']\n",
        "\n",
        "# Add constant to the features\n",
        "X2 = sm.add_constant(X)\n",
        "\n",
        "# set train size to 70% and test size to 30% with a random state.\n",
        "X_train, X_test, y_train, y_test = train_test_split(X2, y, test_size=0.3, random_state=0)"
      ],
      "metadata": {
        "id": "ZP-tlXnZKjWr",
        "colab": {
          "base_uri": "https://localhost:8080/"
        },
        "outputId": "d9d8fbf8-3b46-4eb7-a733-f8ee93dd7c0b"
      },
      "execution_count": null,
      "outputs": [
        {
          "output_type": "stream",
          "name": "stderr",
          "text": [
            "/usr/local/lib/python3.7/dist-packages/statsmodels/tsa/tsatools.py:142: FutureWarning: In a future version of pandas all arguments of concat except for the argument 'objs' will be keyword-only\n",
            "  x = pd.concat(x[::order], 1)\n"
          ]
        }
      ]
    },
    {
      "cell_type": "code",
      "source": [
        "# Check out columns\n",
        "print(sat_data_v3.columns)"
      ],
      "metadata": {
        "colab": {
          "base_uri": "https://localhost:8080/"
        },
        "id": "m_bLrZrN83D6",
        "outputId": "abcc736e-bbe4-4599-be04-75368c03faa1"
      },
      "execution_count": null,
      "outputs": [
        {
          "output_type": "stream",
          "name": "stdout",
          "text": [
            "Index(['life', 'geo_longitude', 'perigee', 'apogee', 'eccentricity',\n",
            "       'inclination', 'period', 'launch_mass', 'orbit_class_GEO',\n",
            "       'orbit_class_LEO', 'orbit_class_MEO', 'gov_True', 'com_True',\n",
            "       'mil_True'],\n",
            "      dtype='object')\n"
          ]
        }
      ]
    },
    {
      "cell_type": "code",
      "source": [
        "sat_data_v3.info()"
      ],
      "metadata": {
        "colab": {
          "base_uri": "https://localhost:8080/"
        },
        "id": "xBRIHz4ufhzg",
        "outputId": "669341be-9124-476d-b277-5a81f3168050"
      },
      "execution_count": null,
      "outputs": [
        {
          "output_type": "stream",
          "name": "stdout",
          "text": [
            "<class 'pandas.core.frame.DataFrame'>\n",
            "Int64Index: 3066 entries, 0 to 3094\n",
            "Data columns (total 14 columns):\n",
            " #   Column           Non-Null Count  Dtype  \n",
            "---  ------           --------------  -----  \n",
            " 0   life             3066 non-null   float64\n",
            " 1   geo_longitude    3066 non-null   float64\n",
            " 2   perigee          3066 non-null   int64  \n",
            " 3   apogee           3066 non-null   int64  \n",
            " 4   eccentricity     3066 non-null   float64\n",
            " 5   inclination      3066 non-null   float64\n",
            " 6   period           3066 non-null   float64\n",
            " 7   launch_mass      3066 non-null   float64\n",
            " 8   orbit_class_GEO  3066 non-null   uint8  \n",
            " 9   orbit_class_LEO  3066 non-null   uint8  \n",
            " 10  orbit_class_MEO  3066 non-null   uint8  \n",
            " 11  gov_True         3066 non-null   uint8  \n",
            " 12  com_True         3066 non-null   uint8  \n",
            " 13  mil_True         3066 non-null   uint8  \n",
            "dtypes: float64(6), int64(2), uint8(6)\n",
            "memory usage: 233.5 KB\n"
          ]
        }
      ]
    },
    {
      "cell_type": "code",
      "source": [
        "# Observe data types\n",
        "sat_data_v3.dtypes"
      ],
      "metadata": {
        "colab": {
          "base_uri": "https://localhost:8080/"
        },
        "id": "BmgCpFBBv5T_",
        "outputId": "f67bd799-9027-4630-fba9-0d7c13fddf75"
      },
      "execution_count": null,
      "outputs": [
        {
          "output_type": "execute_result",
          "data": {
            "text/plain": [
              "life               float64\n",
              "geo_longitude      float64\n",
              "perigee              int64\n",
              "apogee               int64\n",
              "eccentricity       float64\n",
              "inclination        float64\n",
              "period             float64\n",
              "launch_mass        float64\n",
              "orbit_class_GEO      uint8\n",
              "orbit_class_LEO      uint8\n",
              "orbit_class_MEO      uint8\n",
              "gov_True             uint8\n",
              "com_True             uint8\n",
              "mil_True             uint8\n",
              "dtype: object"
            ]
          },
          "metadata": {},
          "execution_count": 22
        }
      ]
    },
    {
      "cell_type": "markdown",
      "source": [
        "# **Modeling - Classical Regression**"
      ],
      "metadata": {
        "id": "C23PF0zMQIxV"
      }
    },
    {
      "cell_type": "markdown",
      "source": [
        "Classical Model 1 - Full regression"
      ],
      "metadata": {
        "id": "TLUBowO9cZvp"
      }
    },
    {
      "cell_type": "code",
      "source": [
        "# Classical Modeling - Linear regression with all input variables\n",
        "model = sm.OLS(y_train, X_train)\n",
        "# model = sm.WLS(y_train, X_train)\n",
        "# model = sm.GLS(y_train, X_train)\n",
        "\n",
        "#model.\n",
        "model = model.fit()\n",
        "print(model.summary2())"
      ],
      "metadata": {
        "id": "Cyb0FM0fLBDw",
        "colab": {
          "base_uri": "https://localhost:8080/"
        },
        "outputId": "23808365-a17e-4ba2-df61-f8d587dec2fd"
      },
      "execution_count": null,
      "outputs": [
        {
          "output_type": "stream",
          "name": "stdout",
          "text": [
            "                 Results: Weighted least squares\n",
            "==================================================================\n",
            "Model:              WLS              Adj. R-squared:     0.742    \n",
            "Dependent Variable: life             AIC:                9325.6784\n",
            "Date:               2022-10-28 16:50 BIC:                9405.0775\n",
            "No. Observations:   2146             Log-Likelihood:     -4648.8  \n",
            "Df Model:           13               F-statistic:        476.1    \n",
            "Df Residuals:       2132             Prob (F-statistic): 0.00     \n",
            "R-squared:          0.744            Scale:              4.4872   \n",
            "------------------------------------------------------------------\n",
            "                 Coef.   Std.Err.    t    P>|t|   [0.025   0.975] \n",
            "------------------------------------------------------------------\n",
            "const            -4.9222   1.8060 -2.7255 0.0065  -8.4638  -1.3806\n",
            "geo_longitude    -0.0040   0.0013 -3.1732 0.0015  -0.0065  -0.0015\n",
            "perigee           0.0010   0.0001 11.7682 0.0000   0.0008   0.0011\n",
            "apogee           -0.0000   0.0000 -0.2501 0.8025  -0.0001   0.0001\n",
            "eccentricity     13.2814   3.6240  3.6649 0.0003   6.1745  20.3882\n",
            "inclination      -0.0036   0.0026 -1.3788 0.1681  -0.0088   0.0015\n",
            "period           -0.0053   0.0013 -4.0071 0.0001  -0.0078  -0.0027\n",
            "launch_mass       0.0006   0.0000 14.3173 0.0000   0.0005   0.0007\n",
            "orbit_class_GEO -15.1690   1.8806 -8.0661 0.0000 -18.8570 -11.4810\n",
            "orbit_class_LEO   4.1146   1.7521  2.3484 0.0189   0.6786   7.5506\n",
            "orbit_class_MEO  -8.6831   1.4256 -6.0910 0.0000 -11.4788  -5.8875\n",
            "gov_True          5.3035   0.2091 25.3600 0.0000   4.8934   5.7136\n",
            "com_True          5.3312   0.2295 23.2330 0.0000   4.8812   5.7812\n",
            "mil_True          2.0048   0.2607  7.6899 0.0000   1.4935   2.5160\n",
            "------------------------------------------------------------------\n",
            "Omnibus:              646.101      Durbin-Watson:         2.057   \n",
            "Prob(Omnibus):        0.000        Jarque-Bera (JB):      5581.726\n",
            "Skew:                 1.167        Prob(JB):              0.000   \n",
            "Kurtosis:             10.548       Condition No.:         2039291 \n",
            "==================================================================\n",
            "* The condition number is large (2e+06). This might indicate\n",
            "strong multicollinearity or other numerical problems.\n"
          ]
        }
      ]
    },
    {
      "cell_type": "markdown",
      "source": [
        "Regression Model 1 error"
      ],
      "metadata": {
        "id": "aegPbQjmkBoK"
      }
    },
    {
      "cell_type": "code",
      "source": [
        "# Test errors\n",
        "# Get predictions\n",
        "y_pred_model1 = model.predict(X_test)\n",
        "\n",
        "print(\"Classical Model 1 Test Error\")\n",
        "# MSE from model 1\n",
        "m1_mse = mean_squared_error(y_test, y_pred_model1)\n",
        "print(\"Model 1 MSE = {var}\".format(var=m1_mse))\n",
        "\n",
        "m1_mae = mean_absolute_error(y_test, y_pred_model1)\n",
        "print(\"Model 1 MAE = {var}\".format(var=m1_mae))"
      ],
      "metadata": {
        "id": "qzaMwHwy2s-W",
        "colab": {
          "base_uri": "https://localhost:8080/"
        },
        "outputId": "685aa1de-4776-49a1-8628-b867d9b7f1c6"
      },
      "execution_count": null,
      "outputs": [
        {
          "output_type": "stream",
          "name": "stdout",
          "text": [
            "Classical Model 1 Test Error\n",
            "Model 1 MSE = 10.625395908725027\n",
            "Model 1 MAE = 1.345896114611148\n"
          ]
        }
      ]
    },
    {
      "cell_type": "code",
      "source": [
        "# Training errors\n",
        "y_pred_model1_train = model.predict(X_train)\n",
        "\n",
        "print(\"Classical Model 1 Training Error\")\n",
        "m1_mse_train = mean_squared_error(y_train, y_pred_model1_train)\n",
        "print(\"Model 1 MSE = {var}\".format(var=m1_mse_train))\n",
        "\n",
        "m1_mae_train = mean_absolute_error(y_train, y_pred_model1_train)\n",
        "print(\"Model 1 MAE = {var}\".format(var=m1_mae_train))"
      ],
      "metadata": {
        "colab": {
          "base_uri": "https://localhost:8080/"
        },
        "id": "_rAn9dFPobCZ",
        "outputId": "2987fe2c-b88f-41df-b62e-007c66846826"
      },
      "execution_count": null,
      "outputs": [
        {
          "output_type": "stream",
          "name": "stdout",
          "text": [
            "Classical Model 1 Training Error\n",
            "Model 1 MSE = 4.457932567709509\n",
            "Model 1 MAE = 1.2394489373900706\n"
          ]
        }
      ]
    },
    {
      "cell_type": "code",
      "source": [
        "# plot prediction vs test values\n",
        "y_pred_model1 = model.predict(X_test)\n",
        "\n",
        "a = plt.axes(aspect='equal')\n",
        "plt.scatter(y_test, y_pred_model1)\n",
        "plt.xlabel('True Values [life]')\n",
        "plt.ylabel('Predictions [life]')\n",
        "lims = [0, 20]\n",
        "plt.xlim(lims)\n",
        "plt.ylim(lims)\n",
        "_ = plt.plot(lims, lims)"
      ],
      "metadata": {
        "colab": {
          "base_uri": "https://localhost:8080/",
          "height": 289
        },
        "id": "-bAZw21Sq-2_",
        "outputId": "13c393e3-a3ad-45af-d0af-afd7c16bc38b"
      },
      "execution_count": null,
      "outputs": [
        {
          "output_type": "display_data",
          "data": {
            "text/plain": [
              "<Figure size 432x288 with 1 Axes>"
            ],
            "image/png": "[encoded data removed]"
          },
          "metadata": {}
        }
      ]
    },
    {
      "cell_type": "markdown",
      "source": [
        "# **Modeling - Neural Network**"
      ],
      "metadata": {
        "id": "15cPcZZgLVIV"
      }
    },
    {
      "cell_type": "markdown",
      "source": [
        "##create normalizer"
      ],
      "metadata": {
        "id": "jejRMaFqFdDj"
      }
    },
    {
      "cell_type": "markdown",
      "source": [
        "Import modules"
      ],
      "metadata": {
        "id": "p2mnbJ1wSlfL"
      }
    },
    {
      "cell_type": "code",
      "source": [
        "import tensorflow as tf\n",
        "\n",
        "from tensorflow import keras\n",
        "from tensorflow.keras import layers\n",
        "\n",
        "from tensorflow.keras.layers.experimental import preprocessing\n",
        "from keras.models import Sequential\n",
        "from keras.layers import Dense\n",
        "\n",
        "from sklearn.metrics import r2_score\n",
        "\n",
        "print(tf.__version__)"
      ],
      "metadata": {
        "colab": {
          "base_uri": "https://localhost:8080/"
        },
        "id": "gRnhqPrGNJU9",
        "outputId": "0797733b-b6ed-437e-9247-38935b65bd0e"
      },
      "execution_count": null,
      "outputs": [
        {
          "output_type": "stream",
          "name": "stdout",
          "text": [
            "2.9.2\n"
          ]
        }
      ]
    },
    {
      "cell_type": "markdown",
      "source": [
        "Data Preparation"
      ],
      "metadata": {
        "id": "R17HLwXBTJQB"
      }
    },
    {
      "cell_type": "code",
      "source": [
        "# Define the data again\n",
        "data = sat_data_v3\n",
        "sat_data_v3.describe()"
      ],
      "metadata": {
        "id": "fOzZmhWWLdv1",
        "colab": {
          "base_uri": "https://localhost:8080/",
          "height": 364
        },
        "outputId": "5cf1f7ce-5cf6-4be0-e926-b249cfba4c6e"
      },
      "execution_count": null,
      "outputs": [
        {
          "output_type": "execute_result",
          "data": {
            "text/plain": [
              "              life  geo_longitude       perigee         apogee  eccentricity  \\\n",
              "count  3066.000000    3066.000000   3066.000000    3066.000000   3066.000000   \n",
              "mean      6.211432       2.357883   6874.572407    7643.330724      0.007444   \n",
              "std       4.201210      36.054911  12919.778511   16451.281717      0.068059   \n",
              "min       0.250000    -179.800000    170.000000     280.000000      0.000000   \n",
              "25%       4.000000       0.000000    538.000000     551.000000      0.000225   \n",
              "50%       4.000000       0.000000    548.000000     561.000000      0.000939   \n",
              "75%       7.000000       0.000000   1215.000000    1220.000000      0.001078   \n",
              "max      30.000000     180.000000  37782.000000  330000.000000      0.957119   \n",
              "\n",
              "       inclination        period   launch_mass  orbit_class_GEO  \\\n",
              "count  3066.000000   3066.000000   3066.000000      3066.000000   \n",
              "mean     59.536190    346.710385   1008.734736         0.153294   \n",
              "std      30.969867    574.164990   1802.847836         0.360330   \n",
              "min       0.000000     91.340000      1.000000         0.000000   \n",
              "25%      53.000000     95.600000    148.000000         0.000000   \n",
              "50%      53.000000     95.600000    260.000000         0.000000   \n",
              "75%      87.400000    100.672500    814.000000         0.000000   \n",
              "max     143.400000  11520.000000  22500.000000         1.000000   \n",
              "\n",
              "       orbit_class_LEO  orbit_class_MEO    gov_True     com_True     mil_True  \n",
              "count      3066.000000      3066.000000  3066.00000  3066.000000  3066.000000  \n",
              "mean          0.797782         0.038813     0.14514     0.833986     0.089693  \n",
              "std           0.401719         0.193180     0.35230     0.372154     0.285789  \n",
              "min           0.000000         0.000000     0.00000     0.000000     0.000000  \n",
              "25%           1.000000         0.000000     0.00000     1.000000     0.000000  \n",
              "50%           1.000000         0.000000     0.00000     1.000000     0.000000  \n",
              "75%           1.000000         0.000000     0.00000     1.000000     0.000000  \n",
              "max           1.000000         1.000000     1.00000     1.000000     1.000000  "
            ],
            "text/html": [
              "\n",
              "  <div id=\"df-cbd55f63-c2bf-4670-94b6-579de66f1bac\">\n",
              "    <div class=\"colab-df-container\">\n",
              "      <div>\n",
              "<style scoped>\n",
              "    .dataframe tbody tr th:only-of-type {\n",
              "        vertical-align: middle;\n",
              "    }\n",
              "\n",
              "    .dataframe tbody tr th {\n",
              "        vertical-align: top;\n",
              "    }\n",
              "\n",
              "    .dataframe thead th {\n",
              "        text-align: right;\n",
              "    }\n",
              "</style>\n",
              "<table border=\"1\" class=\"dataframe\">\n",
              "  <thead>\n",
              "    <tr style=\"text-align: right;\">\n",
              "      <th></th>\n",
              "      <th>life</th>\n",
              "      <th>geo_longitude</th>\n",
              "      <th>perigee</th>\n",
              "      <th>apogee</th>\n",
              "      <th>eccentricity</th>\n",
              "      <th>inclination</th>\n",
              "      <th>period</th>\n",
              "      <th>launch_mass</th>\n",
              "      <th>orbit_class_GEO</th>\n",
              "      <th>orbit_class_LEO</th>\n",
              "      <th>orbit_class_MEO</th>\n",
              "      <th>gov_True</th>\n",
              "      <th>com_True</th>\n",
              "      <th>mil_True</th>\n",
              "    </tr>\n",
              "  </thead>\n",
              "  <tbody>\n",
              "    <tr>\n",
              "      <th>count</th>\n",
              "      <td>3066.000000</td>\n",
              "      <td>3066.000000</td>\n",
              "      <td>3066.000000</td>\n",
              "      <td>3066.000000</td>\n",
              "      <td>3066.000000</td>\n",
              "      <td>3066.000000</td>\n",
              "      <td>3066.000000</td>\n",
              "      <td>3066.000000</td>\n",
              "      <td>3066.000000</td>\n",
              "      <td>3066.000000</td>\n",
              "      <td>3066.000000</td>\n",
              "      <td>3066.00000</td>\n",
              "      <td>3066.000000</td>\n",
              "      <td>3066.000000</td>\n",
              "    </tr>\n",
              "    <tr>\n",
              "      <th>mean</th>\n",
              "      <td>6.211432</td>\n",
              "      <td>2.357883</td>\n",
              "      <td>6874.572407</td>\n",
              "      <td>7643.330724</td>\n",
              "      <td>0.007444</td>\n",
              "      <td>59.536190</td>\n",
              "      <td>346.710385</td>\n",
              "      <td>1008.734736</td>\n",
              "      <td>0.153294</td>\n",
              "      <td>0.797782</td>\n",
              "      <td>0.038813</td>\n",
              "      <td>0.14514</td>\n",
              "      <td>0.833986</td>\n",
              "      <td>0.089693</td>\n",
              "    </tr>\n",
              "    <tr>\n",
              "      <th>std</th>\n",
              "      <td>4.201210</td>\n",
              "      <td>36.054911</td>\n",
              "      <td>12919.778511</td>\n",
              "      <td>16451.281717</td>\n",
              "      <td>0.068059</td>\n",
              "      <td>30.969867</td>\n",
              "      <td>574.164990</td>\n",
              "      <td>1802.847836</td>\n",
              "      <td>0.360330</td>\n",
              "      <td>0.401719</td>\n",
              "      <td>0.193180</td>\n",
              "      <td>0.35230</td>\n",
              "      <td>0.372154</td>\n",
              "      <td>0.285789</td>\n",
              "    </tr>\n",
              "    <tr>\n",
              "      <th>min</th>\n",
              "      <td>0.250000</td>\n",
              "      <td>-179.800000</td>\n",
              "      <td>170.000000</td>\n",
              "      <td>280.000000</td>\n",
              "      <td>0.000000</td>\n",
              "      <td>0.000000</td>\n",
              "      <td>91.340000</td>\n",
              "      <td>1.000000</td>\n",
              "      <td>0.000000</td>\n",
              "      <td>0.000000</td>\n",
              "      <td>0.000000</td>\n",
              "      <td>0.00000</td>\n",
              "      <td>0.000000</td>\n",
              "      <td>0.000000</td>\n",
              "    </tr>\n",
              "    <tr>\n",
              "      <th>25%</th>\n",
              "      <td>4.000000</td>\n",
              "      <td>0.000000</td>\n",
              "      <td>538.000000</td>\n",
              "      <td>551.000000</td>\n",
              "      <td>0.000225</td>\n",
              "      <td>53.000000</td>\n",
              "      <td>95.600000</td>\n",
              "      <td>148.000000</td>\n",
              "      <td>0.000000</td>\n",
              "      <td>1.000000</td>\n",
              "      <td>0.000000</td>\n",
              "      <td>0.00000</td>\n",
              "      <td>1.000000</td>\n",
              "      <td>0.000000</td>\n",
              "    </tr>\n",
              "    <tr>\n",
              "      <th>50%</th>\n",
              "      <td>4.000000</td>\n",
              "      <td>0.000000</td>\n",
              "      <td>548.000000</td>\n",
              "      <td>561.000000</td>\n",
              "      <td>0.000939</td>\n",
              "      <td>53.000000</td>\n",
              "      <td>95.600000</td>\n",
              "      <td>260.000000</td>\n",
              "      <td>0.000000</td>\n",
              "      <td>1.000000</td>\n",
              "      <td>0.000000</td>\n",
              "      <td>0.00000</td>\n",
              "      <td>1.000000</td>\n",
              "      <td>0.000000</td>\n",
              "    </tr>\n",
              "    <tr>\n",
              "      <th>75%</th>\n",
              "      <td>7.000000</td>\n",
              "      <td>0.000000</td>\n",
              "      <td>1215.000000</td>\n",
              "      <td>1220.000000</td>\n",
              "      <td>0.001078</td>\n",
              "      <td>87.400000</td>\n",
              "      <td>100.672500</td>\n",
              "      <td>814.000000</td>\n",
              "      <td>0.000000</td>\n",
              "      <td>1.000000</td>\n",
              "      <td>0.000000</td>\n",
              "      <td>0.00000</td>\n",
              "      <td>1.000000</td>\n",
              "      <td>0.000000</td>\n",
              "    </tr>\n",
              "    <tr>\n",
              "      <th>max</th>\n",
              "      <td>30.000000</td>\n",
              "      <td>180.000000</td>\n",
              "      <td>37782.000000</td>\n",
              "      <td>330000.000000</td>\n",
              "      <td>0.957119</td>\n",
              "      <td>143.400000</td>\n",
              "      <td>11520.000000</td>\n",
              "      <td>22500.000000</td>\n",
              "      <td>1.000000</td>\n",
              "      <td>1.000000</td>\n",
              "      <td>1.000000</td>\n",
              "      <td>1.00000</td>\n",
              "      <td>1.000000</td>\n",
              "      <td>1.000000</td>\n",
              "    </tr>\n",
              "  </tbody>\n",
              "</table>\n",
              "</div>\n",
              "      <button class=\"colab-df-convert\" onclick=\"convertToInteractive('df-cbd55f63-c2bf-4670-94b6-579de66f1bac')\"\n",
              "              title=\"Convert this dataframe to an interactive table.\"\n",
              "              style=\"display:none;\">\n",
              "        \n",
              "  <svg xmlns=\"http://www.w3.org/2000/svg\" height=\"24px\"viewBox=\"0 0 24 24\"\n",
              "       width=\"24px\">\n",
              "    <path d=\"M0 0h24v24H0V0z\" fill=\"none\"/>\n",
              "    <path d=\"M18.56 5.44l.94 2.06.94-2.06 2.06-.94-2.06-.94-.94-2.06-.94 2.06-2.06.94zm-11 1L8.5 8.5l.94-2.06 2.06-.94-2.06-.94L8.5 2.5l-.94 2.06-2.06.94zm10 10l.94 2.06.94-2.06 2.06-.94-2.06-.94-.94-2.06-.94 2.06-2.06.94z\"/><path d=\"M17.41 7.96l-1.37-1.37c-.4-.4-.92-.59-1.43-.59-.52 0-1.04.2-1.43.59L10.3 9.45l-7.72 7.72c-.78.78-.78 2.05 0 2.83L4 21.41c.39.39.9.59 1.41.59.51 0 1.02-.2 1.41-.59l7.78-7.78 2.81-2.81c.8-.78.8-2.07 0-2.86zM5.41 20L4 18.59l7.72-7.72 1.47 1.35L5.41 20z\"/>\n",
              "  </svg>\n",
              "      </button>\n",
              "      \n",
              "  <style>\n",
              "    .colab-df-container {\n",
              "      display:flex;\n",
              "      flex-wrap:wrap;\n",
              "      gap: 12px;\n",
              "    }\n",
              "\n",
              "    .colab-df-convert {\n",
              "      background-color: #E8F0FE;\n",
              "      border: none;\n",
              "      border-radius: 50%;\n",
              "      cursor: pointer;\n",
              "      display: none;\n",
              "      fill: #1967D2;\n",
              "      height: 32px;\n",
              "      padding: 0 0 0 0;\n",
              "      width: 32px;\n",
              "    }\n",
              "\n",
              "    .colab-df-convert:hover {\n",
              "      background-color: #E2EBFA;\n",
              "      box-shadow: 0px 1px 2px rgba(60, 64, 67, 0.3), 0px 1px 3px 1px rgba(60, 64, 67, 0.15);\n",
              "      fill: #174EA6;\n",
              "    }\n",
              "\n",
              "    [theme=dark] .colab-df-convert {\n",
              "      background-color: #3B4455;\n",
              "      fill: #D2E3FC;\n",
              "    }\n",
              "\n",
              "    [theme=dark] .colab-df-convert:hover {\n",
              "      background-color: #434B5C;\n",
              "      box-shadow: 0px 1px 3px 1px rgba(0, 0, 0, 0.15);\n",
              "      filter: drop-shadow(0px 1px 2px rgba(0, 0, 0, 0.3));\n",
              "      fill: #FFFFFF;\n",
              "    }\n",
              "  </style>\n",
              "\n",
              "      <script>\n",
              "        const buttonEl =\n",
              "          document.querySelector('#df-cbd55f63-c2bf-4670-94b6-579de66f1bac button.colab-df-convert');\n",
              "        buttonEl.style.display =\n",
              "          google.colab.kernel.accessAllowed ? 'block' : 'none';\n",
              "\n",
              "        async function convertToInteractive(key) {\n",
              "          const element = document.querySelector('#df-cbd55f63-c2bf-4670-94b6-579de66f1bac');\n",
              "          const dataTable =\n",
              "            await google.colab.kernel.invokeFunction('convertToInteractive',\n",
              "                                                     [key], {});\n",
              "          if (!dataTable) return;\n",
              "\n",
              "          const docLinkHtml = 'Like what you see? Visit the ' +\n",
              "            '<a target=\"_blank\" href=https://colab.research.google.com/notebooks/data_table.ipynb>data table notebook</a>'\n",
              "            + ' to learn more about interactive tables.';\n",
              "          element.innerHTML = '';\n",
              "          dataTable['output_type'] = 'display_data';\n",
              "          await google.colab.output.renderOutput(dataTable, element);\n",
              "          const docLink = document.createElement('div');\n",
              "          docLink.innerHTML = docLinkHtml;\n",
              "          element.appendChild(docLink);\n",
              "        }\n",
              "      </script>\n",
              "    </div>\n",
              "  </div>\n",
              "  "
            ]
          },
          "metadata": {},
          "execution_count": 28
        }
      ]
    },
    {
      "cell_type": "code",
      "source": [
        "# Split data into train and test datasets\n",
        "train_dataset = data.sample(frac=0.7, random_state = 0)\n",
        "test_dataset = data.drop(train_dataset.index)\n",
        "\n",
        "print(train_dataset.shape) # Verify number of data points for training and feature numbers\n",
        "print(test_dataset.shape)  # Verify number of data points for test and feature numbers\n",
        "print(\" \")\n",
        "\n",
        "train_dataset.tail() # Verify features"
      ],
      "metadata": {
        "colab": {
          "base_uri": "https://localhost:8080/",
          "height": 322
        },
        "id": "1Buy_3X9Lvxe",
        "outputId": "30ff08ed-3764-4e3f-a751-1901268f104e"
      },
      "execution_count": null,
      "outputs": [
        {
          "output_type": "stream",
          "name": "stdout",
          "text": [
            "(2146, 14)\n",
            "(920, 14)\n",
            " \n"
          ]
        },
        {
          "output_type": "execute_result",
          "data": {
            "text/plain": [
              "      life  geo_longitude  perigee  apogee  eccentricity  inclination  period  \\\n",
              "1371   4.0            0.0      548     561      0.000939         53.0   95.60   \n",
              "1387   4.0            0.0      548     561      0.000939         53.0   95.60   \n",
              "2625   5.0            0.0     1200    1202      0.000132         87.4   96.75   \n",
              "2096   4.0            0.0      443     446      0.000220         53.2   93.50   \n",
              "2550   5.0            0.0     1200    1202      0.000132         87.4   96.30   \n",
              "\n",
              "      launch_mass  orbit_class_GEO  orbit_class_LEO  orbit_class_MEO  \\\n",
              "1371        260.0                0                1                0   \n",
              "1387        260.0                0                1                0   \n",
              "2625        148.0                0                1                0   \n",
              "2096        260.0                0                1                0   \n",
              "2550        148.0                0                1                0   \n",
              "\n",
              "      gov_True  com_True  mil_True  \n",
              "1371         0         1         0  \n",
              "1387         0         1         0  \n",
              "2625         0         1         0  \n",
              "2096         0         1         0  \n",
              "2550         0         1         0  "
            ],
            "text/html": [
              "\n",
              "  <div id=\"df-d437985a-fb4c-48de-a8b0-b5a2997ee244\">\n",
              "    <div class=\"colab-df-container\">\n",
              "      <div>\n",
              "<style scoped>\n",
              "    .dataframe tbody tr th:only-of-type {\n",
              "        vertical-align: middle;\n",
              "    }\n",
              "\n",
              "    .dataframe tbody tr th {\n",
              "        vertical-align: top;\n",
              "    }\n",
              "\n",
              "    .dataframe thead th {\n",
              "        text-align: right;\n",
              "    }\n",
              "</style>\n",
              "<table border=\"1\" class=\"dataframe\">\n",
              "  <thead>\n",
              "    <tr style=\"text-align: right;\">\n",
              "      <th></th>\n",
              "      <th>life</th>\n",
              "      <th>geo_longitude</th>\n",
              "      <th>perigee</th>\n",
              "      <th>apogee</th>\n",
              "      <th>eccentricity</th>\n",
              "      <th>inclination</th>\n",
              "      <th>period</th>\n",
              "      <th>launch_mass</th>\n",
              "      <th>orbit_class_GEO</th>\n",
              "      <th>orbit_class_LEO</th>\n",
              "      <th>orbit_class_MEO</th>\n",
              "      <th>gov_True</th>\n",
              "      <th>com_True</th>\n",
              "      <th>mil_True</th>\n",
              "    </tr>\n",
              "  </thead>\n",
              "  <tbody>\n",
              "    <tr>\n",
              "      <th>1371</th>\n",
              "      <td>4.0</td>\n",
              "      <td>0.0</td>\n",
              "      <td>548</td>\n",
              "      <td>561</td>\n",
              "      <td>0.000939</td>\n",
              "      <td>53.0</td>\n",
              "      <td>95.60</td>\n",
              "      <td>260.0</td>\n",
              "      <td>0</td>\n",
              "      <td>1</td>\n",
              "      <td>0</td>\n",
              "      <td>0</td>\n",
              "      <td>1</td>\n",
              "      <td>0</td>\n",
              "    </tr>\n",
              "    <tr>\n",
              "      <th>1387</th>\n",
              "      <td>4.0</td>\n",
              "      <td>0.0</td>\n",
              "      <td>548</td>\n",
              "      <td>561</td>\n",
              "      <td>0.000939</td>\n",
              "      <td>53.0</td>\n",
              "      <td>95.60</td>\n",
              "      <td>260.0</td>\n",
              "      <td>0</td>\n",
              "      <td>1</td>\n",
              "      <td>0</td>\n",
              "      <td>0</td>\n",
              "      <td>1</td>\n",
              "      <td>0</td>\n",
              "    </tr>\n",
              "    <tr>\n",
              "      <th>2625</th>\n",
              "      <td>5.0</td>\n",
              "      <td>0.0</td>\n",
              "      <td>1200</td>\n",
              "      <td>1202</td>\n",
              "      <td>0.000132</td>\n",
              "      <td>87.4</td>\n",
              "      <td>96.75</td>\n",
              "      <td>148.0</td>\n",
              "      <td>0</td>\n",
              "      <td>1</td>\n",
              "      <td>0</td>\n",
              "      <td>0</td>\n",
              "      <td>1</td>\n",
              "      <td>0</td>\n",
              "    </tr>\n",
              "    <tr>\n",
              "      <th>2096</th>\n",
              "      <td>4.0</td>\n",
              "      <td>0.0</td>\n",
              "      <td>443</td>\n",
              "      <td>446</td>\n",
              "      <td>0.000220</td>\n",
              "      <td>53.2</td>\n",
              "      <td>93.50</td>\n",
              "      <td>260.0</td>\n",
              "      <td>0</td>\n",
              "      <td>1</td>\n",
              "      <td>0</td>\n",
              "      <td>0</td>\n",
              "      <td>1</td>\n",
              "      <td>0</td>\n",
              "    </tr>\n",
              "    <tr>\n",
              "      <th>2550</th>\n",
              "      <td>5.0</td>\n",
              "      <td>0.0</td>\n",
              "      <td>1200</td>\n",
              "      <td>1202</td>\n",
              "      <td>0.000132</td>\n",
              "      <td>87.4</td>\n",
              "      <td>96.30</td>\n",
              "      <td>148.0</td>\n",
              "      <td>0</td>\n",
              "      <td>1</td>\n",
              "      <td>0</td>\n",
              "      <td>0</td>\n",
              "      <td>1</td>\n",
              "      <td>0</td>\n",
              "    </tr>\n",
              "  </tbody>\n",
              "</table>\n",
              "</div>\n",
              "      <button class=\"colab-df-convert\" onclick=\"convertToInteractive('df-d437985a-fb4c-48de-a8b0-b5a2997ee244')\"\n",
              "              title=\"Convert this dataframe to an interactive table.\"\n",
              "              style=\"display:none;\">\n",
              "        \n",
              "  <svg xmlns=\"http://www.w3.org/2000/svg\" height=\"24px\"viewBox=\"0 0 24 24\"\n",
              "       width=\"24px\">\n",
              "    <path d=\"M0 0h24v24H0V0z\" fill=\"none\"/>\n",
              "    <path d=\"M18.56 5.44l.94 2.06.94-2.06 2.06-.94-2.06-.94-.94-2.06-.94 2.06-2.06.94zm-11 1L8.5 8.5l.94-2.06 2.06-.94-2.06-.94L8.5 2.5l-.94 2.06-2.06.94zm10 10l.94 2.06.94-2.06 2.06-.94-2.06-.94-.94-2.06-.94 2.06-2.06.94z\"/><path d=\"M17.41 7.96l-1.37-1.37c-.4-.4-.92-.59-1.43-.59-.52 0-1.04.2-1.43.59L10.3 9.45l-7.72 7.72c-.78.78-.78 2.05 0 2.83L4 21.41c.39.39.9.59 1.41.59.51 0 1.02-.2 1.41-.59l7.78-7.78 2.81-2.81c.8-.78.8-2.07 0-2.86zM5.41 20L4 18.59l7.72-7.72 1.47 1.35L5.41 20z\"/>\n",
              "  </svg>\n",
              "      </button>\n",
              "      \n",
              "  <style>\n",
              "    .colab-df-container {\n",
              "      display:flex;\n",
              "      flex-wrap:wrap;\n",
              "      gap: 12px;\n",
              "    }\n",
              "\n",
              "    .colab-df-convert {\n",
              "      background-color: #E8F0FE;\n",
              "      border: none;\n",
              "      border-radius: 50%;\n",
              "      cursor: pointer;\n",
              "      display: none;\n",
              "      fill: #1967D2;\n",
              "      height: 32px;\n",
              "      padding: 0 0 0 0;\n",
              "      width: 32px;\n",
              "    }\n",
              "\n",
              "    .colab-df-convert:hover {\n",
              "      background-color: #E2EBFA;\n",
              "      box-shadow: 0px 1px 2px rgba(60, 64, 67, 0.3), 0px 1px 3px 1px rgba(60, 64, 67, 0.15);\n",
              "      fill: #174EA6;\n",
              "    }\n",
              "\n",
              "    [theme=dark] .colab-df-convert {\n",
              "      background-color: #3B4455;\n",
              "      fill: #D2E3FC;\n",
              "    }\n",
              "\n",
              "    [theme=dark] .colab-df-convert:hover {\n",
              "      background-color: #434B5C;\n",
              "      box-shadow: 0px 1px 3px 1px rgba(0, 0, 0, 0.15);\n",
              "      filter: drop-shadow(0px 1px 2px rgba(0, 0, 0, 0.3));\n",
              "      fill: #FFFFFF;\n",
              "    }\n",
              "  </style>\n",
              "\n",
              "      <script>\n",
              "        const buttonEl =\n",
              "          document.querySelector('#df-d437985a-fb4c-48de-a8b0-b5a2997ee244 button.colab-df-convert');\n",
              "        buttonEl.style.display =\n",
              "          google.colab.kernel.accessAllowed ? 'block' : 'none';\n",
              "\n",
              "        async function convertToInteractive(key) {\n",
              "          const element = document.querySelector('#df-d437985a-fb4c-48de-a8b0-b5a2997ee244');\n",
              "          const dataTable =\n",
              "            await google.colab.kernel.invokeFunction('convertToInteractive',\n",
              "                                                     [key], {});\n",
              "          if (!dataTable) return;\n",
              "\n",
              "          const docLinkHtml = 'Like what you see? Visit the ' +\n",
              "            '<a target=\"_blank\" href=https://colab.research.google.com/notebooks/data_table.ipynb>data table notebook</a>'\n",
              "            + ' to learn more about interactive tables.';\n",
              "          element.innerHTML = '';\n",
              "          dataTable['output_type'] = 'display_data';\n",
              "          await google.colab.output.renderOutput(dataTable, element);\n",
              "          const docLink = document.createElement('div');\n",
              "          docLink.innerHTML = docLinkHtml;\n",
              "          element.appendChild(docLink);\n",
              "        }\n",
              "      </script>\n",
              "    </div>\n",
              "  </div>\n",
              "  "
            ]
          },
          "metadata": {},
          "execution_count": 29
        }
      ]
    },
    {
      "cell_type": "markdown",
      "source": [
        "Separate features from labels"
      ],
      "metadata": {
        "id": "_WpEuS17MFH7"
      }
    },
    {
      "cell_type": "code",
      "source": [
        "train_features = train_dataset.copy()\n",
        "test_features = test_dataset.copy()\n",
        "\n",
        "print(train_features.shape)\n",
        "\n",
        "train_labels = train_features.pop('life')\n",
        "test_labels = test_features.pop('life')\n",
        "\n",
        "print(train_features.shape) # separate succesful"
      ],
      "metadata": {
        "colab": {
          "base_uri": "https://localhost:8080/"
        },
        "id": "OWq37-nyL58j",
        "outputId": "78159ed6-c439-443a-edd0-35e5038376e3"
      },
      "execution_count": null,
      "outputs": [
        {
          "output_type": "stream",
          "name": "stdout",
          "text": [
            "(2146, 14)\n",
            "(2146, 13)\n"
          ]
        }
      ]
    },
    {
      "cell_type": "code",
      "source": [
        "# Look at distribution of data\n",
        "train_dataset.describe().transpose()[['mean', 'std']]"
      ],
      "metadata": {
        "colab": {
          "base_uri": "https://localhost:8080/",
          "height": 488
        },
        "id": "Wegy3of7MUoC",
        "outputId": "0fb682f6-6bde-4b9e-a158-82384913d4a6"
      },
      "execution_count": null,
      "outputs": [
        {
          "output_type": "execute_result",
          "data": {
            "text/plain": [
              "                        mean           std\n",
              "life                6.273998      4.275459\n",
              "geo_longitude       3.337870     36.707781\n",
              "perigee          7061.199441  13088.811821\n",
              "apogee           7940.931966  17391.819773\n",
              "eccentricity        0.007974      0.071600\n",
              "inclination        58.848774     31.128937\n",
              "period            357.050708    604.552978\n",
              "launch_mass      1026.338770   1815.259409\n",
              "orbit_class_GEO     0.158900      0.365668\n",
              "orbit_class_LEO     0.792171      0.405848\n",
              "orbit_class_MEO     0.038677      0.192868\n",
              "gov_True            0.145387      0.352573\n",
              "com_True            0.829916      0.375794\n",
              "mil_True            0.095993      0.294650"
            ],
            "text/html": [
              "\n",
              "  <div id=\"df-d2c1eb13-2b3c-4098-9dae-6c319b359685\">\n",
              "    <div class=\"colab-df-container\">\n",
              "      <div>\n",
              "<style scoped>\n",
              "    .dataframe tbody tr th:only-of-type {\n",
              "        vertical-align: middle;\n",
              "    }\n",
              "\n",
              "    .dataframe tbody tr th {\n",
              "        vertical-align: top;\n",
              "    }\n",
              "\n",
              "    .dataframe thead th {\n",
              "        text-align: right;\n",
              "    }\n",
              "</style>\n",
              "<table border=\"1\" class=\"dataframe\">\n",
              "  <thead>\n",
              "    <tr style=\"text-align: right;\">\n",
              "      <th></th>\n",
              "      <th>mean</th>\n",
              "      <th>std</th>\n",
              "    </tr>\n",
              "  </thead>\n",
              "  <tbody>\n",
              "    <tr>\n",
              "      <th>life</th>\n",
              "      <td>6.273998</td>\n",
              "      <td>4.275459</td>\n",
              "    </tr>\n",
              "    <tr>\n",
              "      <th>geo_longitude</th>\n",
              "      <td>3.337870</td>\n",
              "      <td>36.707781</td>\n",
              "    </tr>\n",
              "    <tr>\n",
              "      <th>perigee</th>\n",
              "      <td>7061.199441</td>\n",
              "      <td>13088.811821</td>\n",
              "    </tr>\n",
              "    <tr>\n",
              "      <th>apogee</th>\n",
              "      <td>7940.931966</td>\n",
              "      <td>17391.819773</td>\n",
              "    </tr>\n",
              "    <tr>\n",
              "      <th>eccentricity</th>\n",
              "      <td>0.007974</td>\n",
              "      <td>0.071600</td>\n",
              "    </tr>\n",
              "    <tr>\n",
              "      <th>inclination</th>\n",
              "      <td>58.848774</td>\n",
              "      <td>31.128937</td>\n",
              "    </tr>\n",
              "    <tr>\n",
              "      <th>period</th>\n",
              "      <td>357.050708</td>\n",
              "      <td>604.552978</td>\n",
              "    </tr>\n",
              "    <tr>\n",
              "      <th>launch_mass</th>\n",
              "      <td>1026.338770</td>\n",
              "      <td>1815.259409</td>\n",
              "    </tr>\n",
              "    <tr>\n",
              "      <th>orbit_class_GEO</th>\n",
              "      <td>0.158900</td>\n",
              "      <td>0.365668</td>\n",
              "    </tr>\n",
              "    <tr>\n",
              "      <th>orbit_class_LEO</th>\n",
              "      <td>0.792171</td>\n",
              "      <td>0.405848</td>\n",
              "    </tr>\n",
              "    <tr>\n",
              "      <th>orbit_class_MEO</th>\n",
              "      <td>0.038677</td>\n",
              "      <td>0.192868</td>\n",
              "    </tr>\n",
              "    <tr>\n",
              "      <th>gov_True</th>\n",
              "      <td>0.145387</td>\n",
              "      <td>0.352573</td>\n",
              "    </tr>\n",
              "    <tr>\n",
              "      <th>com_True</th>\n",
              "      <td>0.829916</td>\n",
              "      <td>0.375794</td>\n",
              "    </tr>\n",
              "    <tr>\n",
              "      <th>mil_True</th>\n",
              "      <td>0.095993</td>\n",
              "      <td>0.294650</td>\n",
              "    </tr>\n",
              "  </tbody>\n",
              "</table>\n",
              "</div>\n",
              "      <button class=\"colab-df-convert\" onclick=\"convertToInteractive('df-d2c1eb13-2b3c-4098-9dae-6c319b359685')\"\n",
              "              title=\"Convert this dataframe to an interactive table.\"\n",
              "              style=\"display:none;\">\n",
              "        \n",
              "  <svg xmlns=\"http://www.w3.org/2000/svg\" height=\"24px\"viewBox=\"0 0 24 24\"\n",
              "       width=\"24px\">\n",
              "    <path d=\"M0 0h24v24H0V0z\" fill=\"none\"/>\n",
              "    <path d=\"M18.56 5.44l.94 2.06.94-2.06 2.06-.94-2.06-.94-.94-2.06-.94 2.06-2.06.94zm-11 1L8.5 8.5l.94-2.06 2.06-.94-2.06-.94L8.5 2.5l-.94 2.06-2.06.94zm10 10l.94 2.06.94-2.06 2.06-.94-2.06-.94-.94-2.06-.94 2.06-2.06.94z\"/><path d=\"M17.41 7.96l-1.37-1.37c-.4-.4-.92-.59-1.43-.59-.52 0-1.04.2-1.43.59L10.3 9.45l-7.72 7.72c-.78.78-.78 2.05 0 2.83L4 21.41c.39.39.9.59 1.41.59.51 0 1.02-.2 1.41-.59l7.78-7.78 2.81-2.81c.8-.78.8-2.07 0-2.86zM5.41 20L4 18.59l7.72-7.72 1.47 1.35L5.41 20z\"/>\n",
              "  </svg>\n",
              "      </button>\n",
              "      \n",
              "  <style>\n",
              "    .colab-df-container {\n",
              "      display:flex;\n",
              "      flex-wrap:wrap;\n",
              "      gap: 12px;\n",
              "    }\n",
              "\n",
              "    .colab-df-convert {\n",
              "      background-color: #E8F0FE;\n",
              "      border: none;\n",
              "      border-radius: 50%;\n",
              "      cursor: pointer;\n",
              "      display: none;\n",
              "      fill: #1967D2;\n",
              "      height: 32px;\n",
              "      padding: 0 0 0 0;\n",
              "      width: 32px;\n",
              "    }\n",
              "\n",
              "    .colab-df-convert:hover {\n",
              "      background-color: #E2EBFA;\n",
              "      box-shadow: 0px 1px 2px rgba(60, 64, 67, 0.3), 0px 1px 3px 1px rgba(60, 64, 67, 0.15);\n",
              "      fill: #174EA6;\n",
              "    }\n",
              "\n",
              "    [theme=dark] .colab-df-convert {\n",
              "      background-color: #3B4455;\n",
              "      fill: #D2E3FC;\n",
              "    }\n",
              "\n",
              "    [theme=dark] .colab-df-convert:hover {\n",
              "      background-color: #434B5C;\n",
              "      box-shadow: 0px 1px 3px 1px rgba(0, 0, 0, 0.15);\n",
              "      filter: drop-shadow(0px 1px 2px rgba(0, 0, 0, 0.3));\n",
              "      fill: #FFFFFF;\n",
              "    }\n",
              "  </style>\n",
              "\n",
              "      <script>\n",
              "        const buttonEl =\n",
              "          document.querySelector('#df-d2c1eb13-2b3c-4098-9dae-6c319b359685 button.colab-df-convert');\n",
              "        buttonEl.style.display =\n",
              "          google.colab.kernel.accessAllowed ? 'block' : 'none';\n",
              "\n",
              "        async function convertToInteractive(key) {\n",
              "          const element = document.querySelector('#df-d2c1eb13-2b3c-4098-9dae-6c319b359685');\n",
              "          const dataTable =\n",
              "            await google.colab.kernel.invokeFunction('convertToInteractive',\n",
              "                                                     [key], {});\n",
              "          if (!dataTable) return;\n",
              "\n",
              "          const docLinkHtml = 'Like what you see? Visit the ' +\n",
              "            '<a target=\"_blank\" href=https://colab.research.google.com/notebooks/data_table.ipynb>data table notebook</a>'\n",
              "            + ' to learn more about interactive tables.';\n",
              "          element.innerHTML = '';\n",
              "          dataTable['output_type'] = 'display_data';\n",
              "          await google.colab.output.renderOutput(dataTable, element);\n",
              "          const docLink = document.createElement('div');\n",
              "          docLink.innerHTML = docLinkHtml;\n",
              "          element.appendChild(docLink);\n",
              "        }\n",
              "      </script>\n",
              "    </div>\n",
              "  </div>\n",
              "  "
            ]
          },
          "metadata": {},
          "execution_count": 31
        }
      ]
    },
    {
      "cell_type": "code",
      "source": [
        "# Note: The data have pretty different values. Looks like the majority of satellites are in LEO and a Commercial satellites."
      ],
      "metadata": {
        "id": "KQvdd8LBnEgo"
      },
      "execution_count": null,
      "outputs": []
    },
    {
      "cell_type": "code",
      "source": [
        "# Prepare normalization of data - Create normalizer\n",
        "normalizer = preprocessing.Normalization()"
      ],
      "metadata": {
        "id": "h4ZIA5muMc8t"
      },
      "execution_count": null,
      "outputs": []
    },
    {
      "cell_type": "code",
      "source": [
        "# Adapt it to the training features\n",
        "normalizer.adapt(np.array(train_features))"
      ],
      "metadata": {
        "id": "KbUhtMtAMeO9"
      },
      "execution_count": null,
      "outputs": []
    },
    {
      "cell_type": "code",
      "source": [
        "# Define the loss plot\n",
        "def plot_loss(history,y_lim=10):\n",
        "  plt.plot(history.history['loss'], label='loss')\n",
        "  plt.plot(history.history['val_loss'], label='val_loss')\n",
        "  plt.ylim([0, y_lim])\n",
        "  plt.xlabel('Epoch')\n",
        "  plt.ylabel('Error [life]')\n",
        "  plt.legend()\n",
        "  plt.grid(True)"
      ],
      "metadata": {
        "id": "7ctA9kS8pAdW"
      },
      "execution_count": null,
      "outputs": []
    },
    {
      "cell_type": "markdown",
      "source": [
        "## Neural network model with normalization"
      ],
      "metadata": {
        "id": "XFH8WDdchT6e"
      }
    },
    {
      "cell_type": "code",
      "source": [
        "# Create DNN with normalization layer, 2 hidden layers, 13 inputs, and 1 output\n",
        "nn_model2 = keras.Sequential([\n",
        "      normalizer,\n",
        "      layers.Dense(16, input_dim=13, activation='relu'),\n",
        "      layers.Dense(8, activation='relu'),\n",
        "      layers.Dense(1, activation = 'linear')\n",
        "  ])"
      ],
      "metadata": {
        "id": "54NUDfYPhe7a"
      },
      "execution_count": null,
      "outputs": []
    },
    {
      "cell_type": "code",
      "source": [
        "# define loss function\n",
        "nn_model2.compile(loss='mean_absolute_error',\n",
        "  optimizer=tf.keras.optimizers.Adam(0.01))\n",
        "\n",
        "# Set history\n",
        "history = nn_model2.fit(\n",
        "  train_features,\n",
        "  train_labels,\n",
        "  validation_split=0.2,\n",
        "  verbose=1,\n",
        "  epochs=100)\n",
        "\n",
        "nn_model2.summary()"
      ],
      "metadata": {
        "colab": {
          "base_uri": "https://localhost:8080/"
        },
        "id": "1wuS0l08hpeI",
        "outputId": "29a5506f-fb0a-497f-eca7-ea9f27288008"
      },
      "execution_count": null,
      "outputs": [
        {
          "output_type": "stream",
          "name": "stdout",
          "text": [
            "Epoch 1/100\n",
            "54/54 [==============================] - 1s 5ms/step - loss: 0.6207 - val_loss: 0.7575\n",
            "Epoch 2/100\n",
            "54/54 [==============================] - 0s 2ms/step - loss: 0.5685 - val_loss: 0.7548\n",
            "Epoch 3/100\n",
            "54/54 [==============================] - 0s 2ms/step - loss: 0.5699 - val_loss: 0.6900\n",
            "Epoch 4/100\n",
            "54/54 [==============================] - 0s 3ms/step - loss: 0.5641 - val_loss: 0.7304\n",
            "Epoch 5/100\n",
            "54/54 [==============================] - 0s 2ms/step - loss: 0.5518 - val_loss: 0.7013\n",
            "Epoch 6/100\n",
            "54/54 [==============================] - 0s 2ms/step - loss: 0.5684 - val_loss: 0.7273\n",
            "Epoch 7/100\n",
            "54/54 [==============================] - 0s 2ms/step - loss: 0.5490 - val_loss: 0.7570\n",
            "Epoch 8/100\n",
            "54/54 [==============================] - 0s 3ms/step - loss: 0.5603 - val_loss: 0.7243\n",
            "Epoch 9/100\n",
            "54/54 [==============================] - 0s 2ms/step - loss: 0.5412 - val_loss: 0.7170\n",
            "Epoch 10/100\n",
            "54/54 [==============================] - 0s 3ms/step - loss: 0.5643 - val_loss: 0.7583\n",
            "Epoch 11/100\n",
            "54/54 [==============================] - 0s 2ms/step - loss: 0.5526 - val_loss: 0.7177\n",
            "Epoch 12/100\n",
            "54/54 [==============================] - 0s 2ms/step - loss: 0.5438 - val_loss: 0.7006\n",
            "Epoch 13/100\n",
            "54/54 [==============================] - 0s 3ms/step - loss: 0.5715 - val_loss: 0.7251\n",
            "Epoch 14/100\n",
            "54/54 [==============================] - 0s 2ms/step - loss: 0.5564 - val_loss: 0.7193\n",
            "Epoch 15/100\n",
            "54/54 [==============================] - 0s 3ms/step - loss: 0.5673 - val_loss: 0.6942\n",
            "Epoch 16/100\n",
            "54/54 [==============================] - 0s 2ms/step - loss: 0.5272 - val_loss: 0.7084\n",
            "Epoch 17/100\n",
            "54/54 [==============================] - 0s 2ms/step - loss: 0.5490 - val_loss: 0.7357\n",
            "Epoch 18/100\n",
            "54/54 [==============================] - 0s 2ms/step - loss: 0.5576 - val_loss: 0.6990\n",
            "Epoch 19/100\n",
            "54/54 [==============================] - 0s 3ms/step - loss: 0.5386 - val_loss: 0.6858\n",
            "Epoch 20/100\n",
            "54/54 [==============================] - 0s 3ms/step - loss: 0.5494 - val_loss: 0.7409\n",
            "Epoch 21/100\n",
            "54/54 [==============================] - 0s 2ms/step - loss: 0.5304 - val_loss: 0.7185\n",
            "Epoch 22/100\n",
            "54/54 [==============================] - 0s 3ms/step - loss: 0.5367 - val_loss: 0.7345\n",
            "Epoch 23/100\n",
            "54/54 [==============================] - 0s 2ms/step - loss: 0.5544 - val_loss: 0.7822\n",
            "Epoch 24/100\n",
            "54/54 [==============================] - 0s 2ms/step - loss: 0.5539 - val_loss: 0.6932\n",
            "Epoch 25/100\n",
            "54/54 [==============================] - 0s 2ms/step - loss: 0.5329 - val_loss: 0.7073\n",
            "Epoch 26/100\n",
            "54/54 [==============================] - 0s 2ms/step - loss: 0.5414 - val_loss: 0.7347\n",
            "Epoch 27/100\n",
            "54/54 [==============================] - 0s 3ms/step - loss: 0.5417 - val_loss: 0.6838\n",
            "Epoch 28/100\n",
            "54/54 [==============================] - 0s 2ms/step - loss: 0.5229 - val_loss: 0.7070\n",
            "Epoch 29/100\n",
            "54/54 [==============================] - 0s 2ms/step - loss: 0.5474 - val_loss: 0.7352\n",
            "Epoch 30/100\n",
            "54/54 [==============================] - 0s 2ms/step - loss: 0.5451 - val_loss: 0.6914\n",
            "Epoch 31/100\n",
            "54/54 [==============================] - 0s 3ms/step - loss: 0.5235 - val_loss: 0.7063\n",
            "Epoch 32/100\n",
            "54/54 [==============================] - 0s 2ms/step - loss: 0.5190 - val_loss: 0.7328\n",
            "Epoch 33/100\n",
            "54/54 [==============================] - 0s 3ms/step - loss: 0.5417 - val_loss: 0.7237\n",
            "Epoch 34/100\n",
            "54/54 [==============================] - 0s 2ms/step - loss: 0.5249 - val_loss: 0.7650\n",
            "Epoch 35/100\n",
            "54/54 [==============================] - 0s 2ms/step - loss: 0.5478 - val_loss: 0.7553\n",
            "Epoch 36/100\n",
            "54/54 [==============================] - 0s 3ms/step - loss: 0.5348 - val_loss: 0.7561\n",
            "Epoch 37/100\n",
            "54/54 [==============================] - 0s 3ms/step - loss: 0.5296 - val_loss: 0.7474\n",
            "Epoch 38/100\n",
            "54/54 [==============================] - 0s 2ms/step - loss: 0.5480 - val_loss: 0.7090\n",
            "Epoch 39/100\n",
            "54/54 [==============================] - 0s 2ms/step - loss: 0.5385 - val_loss: 0.7107\n",
            "Epoch 40/100\n",
            "54/54 [==============================] - 0s 3ms/step - loss: 0.5324 - val_loss: 0.6993\n",
            "Epoch 41/100\n",
            "54/54 [==============================] - 0s 2ms/step - loss: 0.5417 - val_loss: 0.7116\n",
            "Epoch 42/100\n",
            "54/54 [==============================] - 0s 3ms/step - loss: 0.5422 - val_loss: 0.7156\n",
            "Epoch 43/100\n",
            "54/54 [==============================] - 0s 2ms/step - loss: 0.5436 - val_loss: 0.7484\n",
            "Epoch 44/100\n",
            "54/54 [==============================] - 0s 3ms/step - loss: 0.5357 - val_loss: 0.7461\n",
            "Epoch 45/100\n",
            "54/54 [==============================] - 0s 2ms/step - loss: 0.5231 - val_loss: 0.7075\n",
            "Epoch 46/100\n",
            "54/54 [==============================] - 0s 2ms/step - loss: 0.5284 - val_loss: 0.7251\n",
            "Epoch 47/100\n",
            "54/54 [==============================] - 0s 2ms/step - loss: 0.5306 - val_loss: 0.7222\n",
            "Epoch 48/100\n",
            "54/54 [==============================] - 0s 2ms/step - loss: 0.5421 - val_loss: 0.7342\n",
            "Epoch 49/100\n",
            "54/54 [==============================] - 0s 2ms/step - loss: 0.5672 - val_loss: 0.7346\n",
            "Epoch 50/100\n",
            "54/54 [==============================] - 0s 2ms/step - loss: 0.5371 - val_loss: 0.7465\n",
            "Epoch 51/100\n",
            "54/54 [==============================] - 0s 2ms/step - loss: 0.5245 - val_loss: 0.7269\n",
            "Epoch 52/100\n",
            "54/54 [==============================] - 0s 2ms/step - loss: 0.5335 - val_loss: 0.7081\n",
            "Epoch 53/100\n",
            "54/54 [==============================] - 0s 2ms/step - loss: 0.5218 - val_loss: 0.7215\n",
            "Epoch 54/100\n",
            "54/54 [==============================] - 0s 2ms/step - loss: 0.5284 - val_loss: 0.7019\n",
            "Epoch 55/100\n",
            "54/54 [==============================] - 0s 2ms/step - loss: 0.5115 - val_loss: 0.7783\n",
            "Epoch 56/100\n",
            "54/54 [==============================] - 0s 2ms/step - loss: 0.5394 - val_loss: 0.7294\n",
            "Epoch 57/100\n",
            "54/54 [==============================] - 0s 2ms/step - loss: 0.5466 - val_loss: 0.6993\n",
            "Epoch 58/100\n",
            "54/54 [==============================] - 0s 3ms/step - loss: 0.5210 - val_loss: 0.7178\n",
            "Epoch 59/100\n",
            "54/54 [==============================] - 0s 3ms/step - loss: 0.5229 - val_loss: 0.7103\n",
            "Epoch 60/100\n",
            "54/54 [==============================] - 0s 2ms/step - loss: 0.5212 - val_loss: 0.7368\n",
            "Epoch 61/100\n",
            "54/54 [==============================] - 0s 2ms/step - loss: 0.5443 - val_loss: 0.7999\n",
            "Epoch 62/100\n",
            "54/54 [==============================] - 0s 2ms/step - loss: 0.5328 - val_loss: 0.7232\n",
            "Epoch 63/100\n",
            "54/54 [==============================] - 0s 2ms/step - loss: 0.5286 - val_loss: 0.7224\n",
            "Epoch 64/100\n",
            "54/54 [==============================] - 0s 2ms/step - loss: 0.5291 - val_loss: 0.7101\n",
            "Epoch 65/100\n",
            "54/54 [==============================] - 0s 3ms/step - loss: 0.5077 - val_loss: 0.7192\n",
            "Epoch 66/100\n",
            "54/54 [==============================] - 0s 3ms/step - loss: 0.5199 - val_loss: 0.7361\n",
            "Epoch 67/100\n",
            "54/54 [==============================] - 0s 2ms/step - loss: 0.5002 - val_loss: 0.7324\n",
            "Epoch 68/100\n",
            "54/54 [==============================] - 0s 2ms/step - loss: 0.5343 - val_loss: 0.7373\n",
            "Epoch 69/100\n",
            "54/54 [==============================] - 0s 2ms/step - loss: 0.5256 - val_loss: 0.7397\n",
            "Epoch 70/100\n",
            "54/54 [==============================] - 0s 2ms/step - loss: 0.5137 - val_loss: 0.7187\n",
            "Epoch 71/100\n",
            "54/54 [==============================] - 0s 2ms/step - loss: 0.5043 - val_loss: 0.7265\n",
            "Epoch 72/100\n",
            "54/54 [==============================] - 0s 3ms/step - loss: 0.5103 - val_loss: 0.7115\n",
            "Epoch 73/100\n",
            "54/54 [==============================] - 0s 2ms/step - loss: 0.5343 - val_loss: 0.7283\n",
            "Epoch 74/100\n",
            "54/54 [==============================] - 0s 2ms/step - loss: 0.5389 - val_loss: 0.7411\n",
            "Epoch 75/100\n",
            "54/54 [==============================] - 0s 2ms/step - loss: 0.5146 - val_loss: 0.7281\n",
            "Epoch 76/100\n",
            "54/54 [==============================] - 0s 2ms/step - loss: 0.5370 - val_loss: 0.7768\n",
            "Epoch 77/100\n",
            "54/54 [==============================] - 0s 2ms/step - loss: 0.5379 - val_loss: 0.7322\n",
            "Epoch 78/100\n",
            "54/54 [==============================] - 0s 2ms/step - loss: 0.5100 - val_loss: 0.7260\n",
            "Epoch 79/100\n",
            "54/54 [==============================] - 0s 2ms/step - loss: 0.4922 - val_loss: 0.7310\n",
            "Epoch 80/100\n",
            "54/54 [==============================] - 0s 3ms/step - loss: 0.5192 - val_loss: 0.7096\n",
            "Epoch 81/100\n",
            "54/54 [==============================] - 0s 2ms/step - loss: 0.5157 - val_loss: 0.7559\n",
            "Epoch 82/100\n",
            "54/54 [==============================] - 0s 2ms/step - loss: 0.5033 - val_loss: 0.7165\n",
            "Epoch 83/100\n",
            "54/54 [==============================] - 0s 2ms/step - loss: 0.5171 - val_loss: 0.7612\n",
            "Epoch 84/100\n",
            "54/54 [==============================] - 0s 2ms/step - loss: 0.5281 - val_loss: 0.7909\n",
            "Epoch 85/100\n",
            "54/54 [==============================] - 0s 2ms/step - loss: 0.5764 - val_loss: 0.7716\n",
            "Epoch 86/100\n",
            "54/54 [==============================] - 0s 2ms/step - loss: 0.5199 - val_loss: 0.7175\n",
            "Epoch 87/100\n",
            "54/54 [==============================] - 0s 3ms/step - loss: 0.5221 - val_loss: 0.7403\n",
            "Epoch 88/100\n",
            "54/54 [==============================] - 0s 3ms/step - loss: 0.5317 - val_loss: 0.7188\n",
            "Epoch 89/100\n",
            "54/54 [==============================] - 0s 2ms/step - loss: 0.5202 - val_loss: 0.7654\n",
            "Epoch 90/100\n",
            "54/54 [==============================] - 0s 2ms/step - loss: 0.5160 - val_loss: 0.7285\n",
            "Epoch 91/100\n",
            "54/54 [==============================] - 0s 2ms/step - loss: 0.5124 - val_loss: 0.7163\n",
            "Epoch 92/100\n",
            "54/54 [==============================] - 0s 3ms/step - loss: 0.5229 - val_loss: 0.7174\n",
            "Epoch 93/100\n",
            "54/54 [==============================] - 0s 2ms/step - loss: 0.5016 - val_loss: 0.7231\n",
            "Epoch 94/100\n",
            "54/54 [==============================] - 0s 3ms/step - loss: 0.5116 - val_loss: 0.7125\n",
            "Epoch 95/100\n",
            "54/54 [==============================] - 0s 2ms/step - loss: 0.5042 - val_loss: 0.6735\n",
            "Epoch 96/100\n",
            "54/54 [==============================] - 0s 2ms/step - loss: 0.5000 - val_loss: 0.7082\n",
            "Epoch 97/100\n",
            "54/54 [==============================] - 0s 2ms/step - loss: 0.5144 - val_loss: 0.7607\n",
            "Epoch 98/100\n",
            "54/54 [==============================] - 0s 2ms/step - loss: 0.5198 - val_loss: 0.6924\n",
            "Epoch 99/100\n",
            "54/54 [==============================] - 0s 2ms/step - loss: 0.4927 - val_loss: 0.6802\n",
            "Epoch 100/100\n",
            "54/54 [==============================] - 0s 2ms/step - loss: 0.5010 - val_loss: 0.7158\n",
            "Model: \"sequential\"\n",
            "_________________________________________________________________\n",
            " Layer (type)                Output Shape              Param #   \n",
            "=================================================================\n",
            " normalization (Normalizatio  (None, 13)               27        \n",
            " n)                                                              \n",
            "                                                                 \n",
            " dense (Dense)               (None, 16)                224       \n",
            "                                                                 \n",
            " dense_1 (Dense)             (None, 8)                 136       \n",
            "                                                                 \n",
            " dense_2 (Dense)             (None, 1)                 9         \n",
            "                                                                 \n",
            "=================================================================\n",
            "Total params: 396\n",
            "Trainable params: 369\n",
            "Non-trainable params: 27\n",
            "_________________________________________________________________\n"
          ]
        }
      ]
    },
    {
      "cell_type": "code",
      "source": [
        "# adjust plot loss limits slightly\n",
        "def plot_loss(history,y_lim=4):\n",
        "  plt.plot(history.history['loss'], label='loss')\n",
        "  plt.plot(history.history['val_loss'], label='val_loss')\n",
        "  plt.ylim([0, y_lim])\n",
        "  plt.xlabel('Epoch')\n",
        "  plt.ylabel('Error [life]')\n",
        "  plt.legend()\n",
        "  plt.grid(True)\n",
        "\n",
        "plot_loss(history)"
      ],
      "metadata": {
        "colab": {
          "base_uri": "https://localhost:8080/",
          "height": 289
        },
        "id": "el27fvdxhqt1",
        "outputId": "408d7c76-c6a4-4232-f082-da9f07f4f8ca"
      },
      "execution_count": null,
      "outputs": [
        {
          "output_type": "display_data",
          "data": {
            "text/plain": [
              "<Figure size 432x288 with 1 Axes>"
            ],
            "image/png": "[encoded data removed]"
          },
          "metadata": {}
        }
      ]
    },
    {
      "cell_type": "markdown",
      "source": [
        "Test predictions and error"
      ],
      "metadata": {
        "id": "mqpwsQd3iooQ"
      }
    },
    {
      "cell_type": "code",
      "source": [
        "test_predictions2 = nn_model2.predict(test_features).flatten()\n",
        "\n",
        "a = plt.axes(aspect='equal')\n",
        "plt.scatter(test_labels, test_predictions2)\n",
        "plt.xlabel('True Values [life]')\n",
        "plt.ylabel('Predictions [life]')\n",
        "lims = [0, 20]\n",
        "plt.xlim(lims)\n",
        "plt.ylim(lims)\n",
        "_ = plt.plot(lims, lims)\n"
      ],
      "metadata": {
        "colab": {
          "base_uri": "https://localhost:8080/",
          "height": 306
        },
        "id": "WXlnKTjPRVAr",
        "outputId": "619b6206-f4b8-4ab9-98c6-260649ecdd6a"
      },
      "execution_count": null,
      "outputs": [
        {
          "output_type": "stream",
          "name": "stdout",
          "text": [
            "29/29 [==============================] - 0s 1ms/step\n"
          ]
        },
        {
          "output_type": "display_data",
          "data": {
            "text/plain": [
              "<Figure size 432x288 with 1 Axes>"
            ],
            "image/png": "[encoded data removed]"
          },
          "metadata": {}
        }
      ]
    },
    {
      "cell_type": "code",
      "source": [
        "error = test_predictions2 - test_labels\n",
        "plt.hist(error, bins=25)\n",
        "plt.xlabel('Prediction Error [life]')\n",
        "_ = plt.ylabel('Count')"
      ],
      "metadata": {
        "colab": {
          "base_uri": "https://localhost:8080/",
          "height": 285
        },
        "id": "rQxoO32QSVBJ",
        "outputId": "44e053e5-841e-47f4-f498-b8a9bbd53285"
      },
      "execution_count": null,
      "outputs": [
        {
          "output_type": "display_data",
          "data": {
            "text/plain": [
              "<Figure size 432x288 with 1 Axes>"
            ],
            "image/png": "[encoded data removed]"
          },
          "metadata": {}
        }
      ]
    },
    {
      "cell_type": "markdown",
      "source": [
        "Test errors"
      ],
      "metadata": {
        "id": "_TsZ-IzWUxQY"
      }
    },
    {
      "cell_type": "code",
      "source": [
        "print(\"NN Model 2 Test Error\")\n",
        "# MSE from model 2\n",
        "nn2_mse = mean_squared_error(test_labels, test_predictions2)\n",
        "print(\"MSE = {var}\".format(var=nn2_mse))\n",
        "\n",
        "# MAE from model 2\n",
        "nn2_mae = mean_absolute_error(test_labels, test_predictions2)\n",
        "print(\"MAE = {var}\".format(var=nn2_mae))"
      ],
      "metadata": {
        "colab": {
          "base_uri": "https://localhost:8080/"
        },
        "id": "HlTg2bLxqfhy",
        "outputId": "76cd05fc-f86a-4170-ec81-7c5dd6d8933d"
      },
      "execution_count": null,
      "outputs": [
        {
          "output_type": "stream",
          "name": "stdout",
          "text": [
            "NN Model 2 Test Error\n",
            "MSE = 1.6583372207444675\n",
            "MAE = 0.5170133430024851\n"
          ]
        }
      ]
    },
    {
      "cell_type": "markdown",
      "source": [
        "Training errors"
      ],
      "metadata": {
        "id": "ccjsG8ZkVCK7"
      }
    },
    {
      "cell_type": "code",
      "source": [
        "train_predictions2 = nn_model2.predict(train_features).flatten()\n",
        "print(\"NN Model 2 Training Error\")\n",
        "\n",
        "# MSE from model 2\n",
        "nn2_mse = mean_squared_error(train_labels, train_predictions2)\n",
        "print(\"MSE = {var}\".format(var=nn2_mse))\n",
        "\n",
        "# MAE from model 2\n",
        "nn2_mae = mean_absolute_error(train_labels, train_predictions2)\n",
        "print(\"MAE = {var}\".format(var=nn2_mae))"
      ],
      "metadata": {
        "colab": {
          "base_uri": "https://localhost:8080/"
        },
        "id": "oD_nPbDHqfdd",
        "outputId": "82b05b76-e067-4ac2-a3a3-4719fc9ffc1d"
      },
      "execution_count": null,
      "outputs": [
        {
          "output_type": "stream",
          "name": "stdout",
          "text": [
            "68/68 [==============================] - 0s 2ms/step\n",
            "NN Model 2 Training Error\n",
            "MSE = 2.679164938670593\n",
            "MAE = 0.5879530699477502\n"
          ]
        }
      ]
    },
    {
      "cell_type": "code",
      "source": [
        "# R2 score\n",
        "NN2_test_r2 = r2_score(test_labels, test_predictions2)\n",
        "print(\"Test R2 = {}\".format(NN2_test_r2))\n",
        "\n",
        "NN2_train_r2 = r2_score(train_labels, train_predictions2)\n",
        "print(\"Train R2 = {}\".format(NN2_train_r2))"
      ],
      "metadata": {
        "colab": {
          "base_uri": "https://localhost:8080/"
        },
        "id": "MRt31KB086Qf",
        "outputId": "2987fa48-7537-4d44-dad8-b52c91c9081f"
      },
      "execution_count": null,
      "outputs": [
        {
          "output_type": "stream",
          "name": "stdout",
          "text": [
            "Test R2 = 0.8973312077096565\n",
            "Train R2 = 0.8533654455652788\n"
          ]
        }
      ]
    },
    {
      "cell_type": "code",
      "source": [
        "# Save model\n",
        "nn_model2.save('nn_model2.h5')"
      ],
      "metadata": {
        "id": "Di6bALwj9v9a"
      },
      "execution_count": null,
      "outputs": []
    },
    {
      "cell_type": "markdown",
      "source": [
        "# **Database Example**"
      ],
      "metadata": {
        "id": "46tOWbGHmp8_"
      }
    },
    {
      "cell_type": "markdown",
      "source": [
        "Connect to database,   \n",
        "Create empty table named Animal,    \n",
        "Within the table create 5 fields named AnimalID, AnimalName, etc"
      ],
      "metadata": {
        "id": "wgNa_VHZor4k"
      }
    },
    {
      "cell_type": "code",
      "source": [
        "import sqlite3\n",
        "\n",
        "conn=sqlite3.connect(\"AnimalClinic.db\")\n",
        "\n",
        "my_cursor=conn.cursor()\n",
        "\n",
        "SQLcommand1=\"\"\"CREATE TABLE if not exists Animal (\n",
        "              AnimalID TEXT PRIMARY KEY,\n",
        "              AnimalName TEXT,\n",
        "              AnimalBirthDate TEXT,\n",
        "              AnimalType TEXT,\n",
        "              AnimalBreed TEXT\n",
        "              )   \"\"\"\n",
        "\n",
        "\n",
        "\n",
        "my_cursor.execute(SQLcommand1)\n",
        "\n"
      ],
      "metadata": {
        "colab": {
          "base_uri": "https://localhost:8080/"
        },
        "id": "d0fH8ugImtQu",
        "outputId": "85a8e31d-17d4-4d2d-886b-eb07dae56226"
      },
      "execution_count": 1,
      "outputs": [
        {
          "output_type": "execute_result",
          "data": {
            "text/plain": [
              "<sqlite3.Cursor at 0x7c0ee23562c0>"
            ]
          },
          "metadata": {},
          "execution_count": 1
        }
      ]
    },
    {
      "cell_type": "markdown",
      "source": [
        "enter data into table"
      ],
      "metadata": {
        "id": "6z1EU80howoT"
      }
    },
    {
      "cell_type": "code",
      "source": [
        "Records1=[\n",
        "    ('12282','Whiskers','04/10/2014','cat','Burmese'),     # 5 pieces of data per record\n",
        "    ('12286','Lady','08/12/2015','dog','Border Collie'),\n",
        "    ('12290','Rustle','09/02/2015','Dog','Australian shepherd'),\n",
        "    ('12294','Bushy','03/02/2015','Dog','Himalayan')\n",
        "    ]\n",
        "\n",
        "SQLcommand2=\"\"\"INSERT INTO Animal VALUES (?,?,?,?,?)\"\"\"    # ?'s represent placeholders for each piece of data\n",
        "\n",
        "my_cursor.executemany(SQLcommand2, Records1)"
      ],
      "metadata": {
        "colab": {
          "base_uri": "https://localhost:8080/"
        },
        "id": "MxZyQ4fOozGk",
        "outputId": "a48b5da1-b2e3-499b-9998-bc43b7b46408"
      },
      "execution_count": 2,
      "outputs": [
        {
          "output_type": "execute_result",
          "data": {
            "text/plain": [
              "<sqlite3.Cursor at 0x7c0ee23562c0>"
            ]
          },
          "metadata": {},
          "execution_count": 2
        }
      ]
    },
    {
      "cell_type": "markdown",
      "source": [
        "execute database query"
      ],
      "metadata": {
        "id": "iwc3m0gKnjtv"
      }
    },
    {
      "cell_type": "code",
      "source": [
        "query_result = my_cursor.execute(\"SELECT AnimalName, AnimalType from Animal\") # SQL query where Animal is the table name\n",
        "\n",
        "for row in query_result:\n",
        "  print(row)\n",
        "\n"
      ],
      "metadata": {
        "colab": {
          "base_uri": "https://localhost:8080/"
        },
        "id": "O8418Qjnnnzm",
        "outputId": "c6cd6bfb-7fc4-4556-80a5-446be2ed71da"
      },
      "execution_count": 4,
      "outputs": [
        {
          "output_type": "stream",
          "name": "stdout",
          "text": [
            "('Whiskers', 'cat')\n",
            "('Lady', 'dog')\n",
            "('Rustle', 'Dog')\n",
            "('Bushy', 'Dog')\n"
          ]
        }
      ]
    }
  ]
}